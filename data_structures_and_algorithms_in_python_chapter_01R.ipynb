{
  "nbformat": 4,
  "nbformat_minor": 0,
  "metadata": {
    "colab": {
      "name": "data_structures_and_algorithms_in_python_chapter_01R.ipynb",
      "version": "0.3.2",
      "provenance": [],
      "collapsed_sections": [],
      "include_colab_link": true
    },
    "kernelspec": {
      "name": "python3",
      "display_name": "Python 3"
    }
  },
  "cells": [
    {
      "cell_type": "markdown",
      "metadata": {
        "id": "view-in-github",
        "colab_type": "text"
      },
      "source": [
        "<a href=\"https://colab.research.google.com/github/Norbinsh/colab-notebooks/blob/master/data_structures_and_algorithms_in_python_chapter_01R.ipynb\" target=\"_parent\"><img src=\"https://colab.research.google.com/assets/colab-badge.svg\" alt=\"Open In Colab\"/></a>"
      ]
    },
    {
      "cell_type": "markdown",
      "metadata": {
        "id": "CyfVemWBvElB",
        "colab_type": "text"
      },
      "source": [
        "### *Reinforcement* (Python 3.6.7)"
      ]
    },
    {
      "cell_type": "code",
      "metadata": {
        "id": "m0VQoaYG2QLo",
        "colab_type": "code",
        "colab": {}
      },
      "source": [
        "from typing import List\n",
        "from random import randrange"
      ],
      "execution_count": 0,
      "outputs": []
    },
    {
      "cell_type": "markdown",
      "metadata": {
        "id": "e_6HYWOjvKsy",
        "colab_type": "text"
      },
      "source": [
        "R-1.1 Write a short Python function, is multiple(n, m), that takes two integer\n",
        "values and returns True if n is a multiple of m, that is, n = mi for some\n",
        "integer i, and False otherwise."
      ]
    },
    {
      "cell_type": "code",
      "metadata": {
        "id": "KXbotPxivFx6",
        "colab_type": "code",
        "colab": {}
      },
      "source": [
        "def is_multiple(n: int, m: int) -> bool:\n",
        "  \"\"\"checks whether n is a multiple of m\"\"\"\n",
        "  if n % m == 0:\n",
        "    return True\n",
        "  else:\n",
        "    return False"
      ],
      "execution_count": 0,
      "outputs": []
    },
    {
      "cell_type": "code",
      "metadata": {
        "id": "clrU50Lt1v_P",
        "colab_type": "code",
        "colab": {
          "base_uri": "https://localhost:8080/",
          "height": 34
        },
        "outputId": "775c9971-c763-46fe-9bab-9dd23c5d7b8a"
      },
      "source": [
        "is_multiple(9, 2)"
      ],
      "execution_count": 294,
      "outputs": [
        {
          "output_type": "execute_result",
          "data": {
            "text/plain": [
              "False"
            ]
          },
          "metadata": {
            "tags": []
          },
          "execution_count": 294
        }
      ]
    },
    {
      "cell_type": "code",
      "metadata": {
        "id": "9bdlpb3xwysx",
        "colab_type": "code",
        "colab": {
          "base_uri": "https://localhost:8080/",
          "height": 34
        },
        "outputId": "b1fc3f36-de6e-4d26-ac72-c9c8ce6a1f17"
      },
      "source": [
        "is_multiple(10, 2)"
      ],
      "execution_count": 295,
      "outputs": [
        {
          "output_type": "execute_result",
          "data": {
            "text/plain": [
              "True"
            ]
          },
          "metadata": {
            "tags": []
          },
          "execution_count": 295
        }
      ]
    },
    {
      "cell_type": "markdown",
      "metadata": {
        "id": "LQH3FsDDxkNY",
        "colab_type": "text"
      },
      "source": [
        "R-1.2 Write a short Python function, is even(k), that takes an integer value and\n",
        "returns True if k is even, and False otherwise. However, your function\n",
        "cannot use the multiplication, modulo, or division operators."
      ]
    },
    {
      "cell_type": "code",
      "metadata": {
        "id": "ORIbmmmhxm58",
        "colab_type": "code",
        "colab": {}
      },
      "source": [
        "def is_even(k: int) -> bool:\n",
        "  \"\"\"checks whether k is even\"\"\"\n",
        "  even = True\n",
        "  for i in range(1, k+1):\n",
        "    if even:\n",
        "      even = False\n",
        "    else:\n",
        "      even = True\n",
        "  return even\n",
        "\n",
        "    "
      ],
      "execution_count": 0,
      "outputs": []
    },
    {
      "cell_type": "code",
      "metadata": {
        "id": "L_dqd-410UPz",
        "colab_type": "code",
        "colab": {
          "base_uri": "https://localhost:8080/",
          "height": 34
        },
        "outputId": "8b088b63-f5c8-4398-c892-235435f92c89"
      },
      "source": [
        "is_even(6)"
      ],
      "execution_count": 297,
      "outputs": [
        {
          "output_type": "execute_result",
          "data": {
            "text/plain": [
              "True"
            ]
          },
          "metadata": {
            "tags": []
          },
          "execution_count": 297
        }
      ]
    },
    {
      "cell_type": "code",
      "metadata": {
        "id": "tpMAU1ID0VvR",
        "colab_type": "code",
        "colab": {
          "base_uri": "https://localhost:8080/",
          "height": 34
        },
        "outputId": "60b331f1-22ee-4d6a-c3ee-e79ad48b77d2"
      },
      "source": [
        "is_even(5)"
      ],
      "execution_count": 298,
      "outputs": [
        {
          "output_type": "execute_result",
          "data": {
            "text/plain": [
              "False"
            ]
          },
          "metadata": {
            "tags": []
          },
          "execution_count": 298
        }
      ]
    },
    {
      "cell_type": "markdown",
      "metadata": {
        "id": "R-L9cJcR08pQ",
        "colab_type": "text"
      },
      "source": [
        "R-1.3 Write a short Python function, minmax(data), that takes a sequence of\n",
        "one or more numbers, and returns the smallest and largest numbers, in the\n",
        "form of a tuple of length two. Do not use the built-in functions min or\n",
        "max in implementing your solution."
      ]
    },
    {
      "cell_type": "code",
      "metadata": {
        "id": "lhGYCJGF0-0j",
        "colab_type": "code",
        "colab": {}
      },
      "source": [
        "def minmax(data: List) -> tuple:\n",
        "  \"\"\"takes a sequence of one or more numbers,\n",
        "  and returns the smallest and largest numbers as a tuple\"\"\"\n",
        "  sorted_data = sorted(data)\n",
        "  return (sorted_data[0], sorted_data[-1])\n",
        "  \n",
        "  \n",
        "  "
      ],
      "execution_count": 0,
      "outputs": []
    },
    {
      "cell_type": "code",
      "metadata": {
        "id": "aSadmn2p2efr",
        "colab_type": "code",
        "colab": {
          "base_uri": "https://localhost:8080/",
          "height": 34
        },
        "outputId": "9710e476-ba5d-4bcd-9a4f-c18ac1cfd5eb"
      },
      "source": [
        "minmax([5,6,9,1])"
      ],
      "execution_count": 300,
      "outputs": [
        {
          "output_type": "execute_result",
          "data": {
            "text/plain": [
              "(1, 9)"
            ]
          },
          "metadata": {
            "tags": []
          },
          "execution_count": 300
        }
      ]
    },
    {
      "cell_type": "code",
      "metadata": {
        "id": "R9RTS39w3fRM",
        "colab_type": "code",
        "colab": {
          "base_uri": "https://localhost:8080/",
          "height": 34
        },
        "outputId": "2c9efc22-ad4e-4384-a02f-468f28f6dabe"
      },
      "source": [
        "minmax([3])"
      ],
      "execution_count": 301,
      "outputs": [
        {
          "output_type": "execute_result",
          "data": {
            "text/plain": [
              "(3, 3)"
            ]
          },
          "metadata": {
            "tags": []
          },
          "execution_count": 301
        }
      ]
    },
    {
      "cell_type": "code",
      "metadata": {
        "id": "E-8xUGaDB-Go",
        "colab_type": "code",
        "colab": {
          "base_uri": "https://localhost:8080/",
          "height": 34
        },
        "outputId": "4cf23e82-fdfb-44bb-c640-fa44295e9477"
      },
      "source": [
        "minmax((5,6,9,1))"
      ],
      "execution_count": 302,
      "outputs": [
        {
          "output_type": "execute_result",
          "data": {
            "text/plain": [
              "(1, 9)"
            ]
          },
          "metadata": {
            "tags": []
          },
          "execution_count": 302
        }
      ]
    },
    {
      "cell_type": "code",
      "metadata": {
        "id": "YO-Lpz90CCH7",
        "colab_type": "code",
        "colab": {
          "base_uri": "https://localhost:8080/",
          "height": 34
        },
        "outputId": "1c011087-fa79-4a06-f5e2-cecf7b55106f"
      },
      "source": [
        "minmax(range(1,10))"
      ],
      "execution_count": 303,
      "outputs": [
        {
          "output_type": "execute_result",
          "data": {
            "text/plain": [
              "(1, 9)"
            ]
          },
          "metadata": {
            "tags": []
          },
          "execution_count": 303
        }
      ]
    },
    {
      "cell_type": "markdown",
      "metadata": {
        "id": "Ac2ygo3P31kk",
        "colab_type": "text"
      },
      "source": [
        "R-1.4 Write a short Python function that takes a positive integer n and returns\n",
        "the sum of the squares of all the positive integers smaller than n."
      ]
    },
    {
      "cell_type": "code",
      "metadata": {
        "id": "QP3QSURL35iN",
        "colab_type": "code",
        "colab": {}
      },
      "source": [
        "def sum_squares(n: int) -> int:\n",
        "  \"\"\"returns the sum of square of positive integers smaller than n, exclusive\"\"\"\n",
        "  n -= 1\n",
        "  sqsum = 0\n",
        "  while n > 0:\n",
        "    sqsum += n * n\n",
        "    n -= 1\n",
        "  return  sqsum"
      ],
      "execution_count": 0,
      "outputs": []
    },
    {
      "cell_type": "code",
      "metadata": {
        "id": "ZKxP89dSC2X7",
        "colab_type": "code",
        "colab": {
          "base_uri": "https://localhost:8080/",
          "height": 34
        },
        "outputId": "3aaa1008-e5b5-4d19-985e-fd0bbcbb8f11"
      },
      "source": [
        "sum_squares(5)"
      ],
      "execution_count": 305,
      "outputs": [
        {
          "output_type": "execute_result",
          "data": {
            "text/plain": [
              "30"
            ]
          },
          "metadata": {
            "tags": []
          },
          "execution_count": 305
        }
      ]
    },
    {
      "cell_type": "markdown",
      "metadata": {
        "id": "2eNrvMuwEKEC",
        "colab_type": "text"
      },
      "source": [
        "R-1.5 Give a single command that computes the sum from Exercise R-1.4, relying on Python’s comprehension syntax and the built-in sum function."
      ]
    },
    {
      "cell_type": "code",
      "metadata": {
        "id": "lqY3kGo_E2tB",
        "colab_type": "code",
        "colab": {}
      },
      "source": [
        "def sum_squares(n: int) -> int:\n",
        "  \"\"\"returns the sum of square of positive integers smaller than n, exclusive\"\"\"\n",
        "  return sum([x ** 2 for x in range(1, n) if x > 0])"
      ],
      "execution_count": 0,
      "outputs": []
    },
    {
      "cell_type": "code",
      "metadata": {
        "id": "LPDtn0G0GS8P",
        "colab_type": "code",
        "colab": {
          "base_uri": "https://localhost:8080/",
          "height": 34
        },
        "outputId": "64a8d812-2a8a-4aa3-f78c-95466e420840"
      },
      "source": [
        "sum_squares(5)"
      ],
      "execution_count": 307,
      "outputs": [
        {
          "output_type": "execute_result",
          "data": {
            "text/plain": [
              "30"
            ]
          },
          "metadata": {
            "tags": []
          },
          "execution_count": 307
        }
      ]
    },
    {
      "cell_type": "markdown",
      "metadata": {
        "id": "Q05R_ofqHVGj",
        "colab_type": "text"
      },
      "source": [
        "R-1.6 Write a short Python function that takes a positive integer n and returns  the sum of the squares of all the odd positive integers smaller than n."
      ]
    },
    {
      "cell_type": "code",
      "metadata": {
        "id": "hqVRxiDgHXdD",
        "colab_type": "code",
        "colab": {}
      },
      "source": [
        "def odd_sum_squares(n: int) -> int:\n",
        "  \"\"\"returns the sum of square of positive odd integers smaller than n,\n",
        "  exclusive\"\"\"\n",
        "  n -= 1\n",
        "  sqsum = 0\n",
        "  while n > 0:\n",
        "    if n % 2 == 1:\n",
        "      sqsum += n * n\n",
        "    n -= 1\n",
        "  return  sqsum"
      ],
      "execution_count": 0,
      "outputs": []
    },
    {
      "cell_type": "code",
      "metadata": {
        "id": "qixufQkxH1LR",
        "colab_type": "code",
        "colab": {
          "base_uri": "https://localhost:8080/",
          "height": 34
        },
        "outputId": "45892292-b567-4293-e29a-b43dfb5900d4"
      },
      "source": [
        "odd_sum_squares(12)"
      ],
      "execution_count": 309,
      "outputs": [
        {
          "output_type": "execute_result",
          "data": {
            "text/plain": [
              "286"
            ]
          },
          "metadata": {
            "tags": []
          },
          "execution_count": 309
        }
      ]
    },
    {
      "cell_type": "markdown",
      "metadata": {
        "id": "LSayLjuJIxz5",
        "colab_type": "text"
      },
      "source": [
        "R-1.7 Give a single command that computes the sum from Exercise R-1.6, relying on Python’s comprehension syntax and the built-in sum function."
      ]
    },
    {
      "cell_type": "code",
      "metadata": {
        "id": "uNtiArbJIzZU",
        "colab_type": "code",
        "colab": {}
      },
      "source": [
        "def odd_sum_squares(n: int) -> int:\n",
        "  \"\"\"returns the sum of square of positive odd integers smaller than n,\n",
        "  exclusive\"\"\"\n",
        "  return sum([x ** 2 for x in range(1, n, 2) if x > 0])"
      ],
      "execution_count": 0,
      "outputs": []
    },
    {
      "cell_type": "code",
      "metadata": {
        "id": "b2n-sO3cI5ee",
        "colab_type": "code",
        "colab": {
          "base_uri": "https://localhost:8080/",
          "height": 34
        },
        "outputId": "2acea480-baa0-46d4-f4e0-55b232e443a9"
      },
      "source": [
        "odd_sum_squares(12)"
      ],
      "execution_count": 311,
      "outputs": [
        {
          "output_type": "execute_result",
          "data": {
            "text/plain": [
              "286"
            ]
          },
          "metadata": {
            "tags": []
          },
          "execution_count": 311
        }
      ]
    },
    {
      "cell_type": "markdown",
      "metadata": {
        "id": "iqXSPGJBJV5W",
        "colab_type": "text"
      },
      "source": [
        "R-1.8 Python allows negative integers to be used as indices into a sequence,\n",
        "such as a string. If string s has length n, and expression s[k] is used for index −n ≤ k < 0, what is the equivalent index j ≥ 0 such that s[j] references the same element?"
      ]
    },
    {
      "cell_type": "code",
      "metadata": {
        "id": "wfiUw96EJW07",
        "colab_type": "code",
        "colab": {
          "base_uri": "https://localhost:8080/",
          "height": 34
        },
        "outputId": "8a166732-8325-44a4-a5a6-bf22dc5573b7"
      },
      "source": [
        "s = \"this-is-my-sequence\"\n",
        "# I need to find k, so it reference the same element as s[j]\n",
        "# I know that:\n",
        "# k <= -n and k < 0\n",
        "# I also know that j needs to be >= 0\n",
        "# for j, I will access the same index, via its positive index\n",
        "\n",
        "k = -1\n",
        "j = k + len(s)\n",
        "print(f\"K is index {k} and the value is {s[k]} while j is index {j} and the \\\n",
        "value is {s[j]}\")\n"
      ],
      "execution_count": 312,
      "outputs": [
        {
          "output_type": "stream",
          "text": [
            "K is index -1 and the value is e while j is index 18 and the value is e\n"
          ],
          "name": "stdout"
        }
      ]
    },
    {
      "cell_type": "markdown",
      "metadata": {
        "id": "OQowID7tsyMA",
        "colab_type": "text"
      },
      "source": [
        "R-1.9 What parameters should be sent to the range constructor, to produce a range with values 50, 60, 70, 80?"
      ]
    },
    {
      "cell_type": "code",
      "metadata": {
        "id": "aK2RkL8us0Ns",
        "colab_type": "code",
        "colab": {
          "base_uri": "https://localhost:8080/",
          "height": 85
        },
        "outputId": "b494b605-0a3c-4311-dcdd-3fade1647d13"
      },
      "source": [
        "for i in range(50, 80+10, 10):\n",
        "  print(i)"
      ],
      "execution_count": 313,
      "outputs": [
        {
          "output_type": "stream",
          "text": [
            "50\n",
            "60\n",
            "70\n",
            "80\n"
          ],
          "name": "stdout"
        }
      ]
    },
    {
      "cell_type": "markdown",
      "metadata": {
        "id": "X3zCAXuXtVEp",
        "colab_type": "text"
      },
      "source": [
        "R-1.10 What parameters should be sent to the range constructor, to produce a range with values 8, 6, 4, 2, 0, −2, −4, −6, −8?"
      ]
    },
    {
      "cell_type": "code",
      "metadata": {
        "id": "MRtKHaBetWZj",
        "colab_type": "code",
        "colab": {
          "base_uri": "https://localhost:8080/",
          "height": 170
        },
        "outputId": "6a0a6d98-abdf-4dc7-a6dd-5635b6d8de05"
      },
      "source": [
        "for i in range(8, -8-2, -2):\n",
        "  print(i)"
      ],
      "execution_count": 314,
      "outputs": [
        {
          "output_type": "stream",
          "text": [
            "8\n",
            "6\n",
            "4\n",
            "2\n",
            "0\n",
            "-2\n",
            "-4\n",
            "-6\n",
            "-8\n"
          ],
          "name": "stdout"
        }
      ]
    },
    {
      "cell_type": "markdown",
      "metadata": {
        "id": "cduyb1xztjdY",
        "colab_type": "text"
      },
      "source": [
        "R-1.11 Demonstrate how to use Python’s list comprehension syntax to produce the list [1, 2, 4, 8, 16, 32, 64, 128, 256]."
      ]
    },
    {
      "cell_type": "code",
      "metadata": {
        "id": "iY7Sd1PptkbT",
        "colab_type": "code",
        "colab": {}
      },
      "source": [
        ""
      ],
      "execution_count": 0,
      "outputs": []
    },
    {
      "cell_type": "code",
      "metadata": {
        "id": "tv7DkKF2tz1-",
        "colab_type": "code",
        "colab": {
          "base_uri": "https://localhost:8080/",
          "height": 34
        },
        "outputId": "186a6d76-c5ad-4913-d375-be0f3209142d"
      },
      "source": [
        "[2 ** i for i in range(9)]"
      ],
      "execution_count": 315,
      "outputs": [
        {
          "output_type": "execute_result",
          "data": {
            "text/plain": [
              "[1, 2, 4, 8, 16, 32, 64, 128, 256]"
            ]
          },
          "metadata": {
            "tags": []
          },
          "execution_count": 315
        }
      ]
    },
    {
      "cell_type": "markdown",
      "metadata": {
        "id": "bowLHNAlxfMK",
        "colab_type": "text"
      },
      "source": [
        "R-1.12 Python’s random module includes a function choice(data) that returns a\n",
        "random element from a non-empty sequence. The random module in-\n",
        "cludes a more basic function randrange, with parameterization similar to\n",
        "the built-in range function, that return a random choice from the given\n",
        "range. Using only the randrange function, implement your own version\n",
        "of the choice function."
      ]
    },
    {
      "cell_type": "code",
      "metadata": {
        "id": "cTcN9HISxf__",
        "colab_type": "code",
        "colab": {}
      },
      "source": [
        "def choice(seq: List) -> int:\n",
        "  \"\"\"returns a random element from the given sequence\"\"\"\n",
        "  return seq[randrange(len(seq))]\n",
        "  "
      ],
      "execution_count": 0,
      "outputs": []
    },
    {
      "cell_type": "code",
      "metadata": {
        "id": "jzgF49AGyOlG",
        "colab_type": "code",
        "colab": {
          "base_uri": "https://localhost:8080/",
          "height": 34
        },
        "outputId": "1d293f2d-4292-442e-db43-b40ecc7179e0"
      },
      "source": [
        "choice([1,5,6,9,1])"
      ],
      "execution_count": 326,
      "outputs": [
        {
          "output_type": "execute_result",
          "data": {
            "text/plain": [
              "9"
            ]
          },
          "metadata": {
            "tags": []
          },
          "execution_count": 326
        }
      ]
    }
  ]
}