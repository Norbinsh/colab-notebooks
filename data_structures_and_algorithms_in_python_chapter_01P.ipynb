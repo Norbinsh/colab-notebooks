{
  "nbformat": 4,
  "nbformat_minor": 0,
  "metadata": {
    "colab": {
      "name": "data_structures_and_algorithms_in_python_chapter_01P.ipynb",
      "version": "0.3.2",
      "provenance": [],
      "collapsed_sections": [],
      "include_colab_link": true
    },
    "kernelspec": {
      "name": "python3",
      "display_name": "Python 3"
    }
  },
  "cells": [
    {
      "cell_type": "markdown",
      "metadata": {
        "id": "view-in-github",
        "colab_type": "text"
      },
      "source": [
        "<a href=\"https://colab.research.google.com/github/Norbinsh/colab-notebooks/blob/master/data_structures_and_algorithms_in_python_chapter_01P.ipynb\" target=\"_parent\"><img src=\"https://colab.research.google.com/assets/colab-badge.svg\" alt=\"Open In Colab\"/></a>"
      ]
    },
    {
      "cell_type": "markdown",
      "metadata": {
        "id": "UHsxshiJGejh",
        "colab_type": "text"
      },
      "source": [
        "### *Projects* (Python 3.6.7)"
      ]
    },
    {
      "cell_type": "markdown",
      "metadata": {
        "id": "h9wvpAuEHSH1",
        "colab_type": "text"
      },
      "source": [
        "P-1.29 Write a Python program that outputs all possible strings formed by using\n",
        "the characters c , a , t , d , o , and g exactly once."
      ]
    },
    {
      "cell_type": "code",
      "metadata": {
        "id": "aFvQ1dbPGWHJ",
        "colab_type": "code",
        "colab": {}
      },
      "source": [
        "from itertools import permutations"
      ],
      "execution_count": 0,
      "outputs": []
    },
    {
      "cell_type": "code",
      "metadata": {
        "id": "hpKTbU_bvEDd",
        "colab_type": "code",
        "colab": {}
      },
      "source": [
        "def return_permutations(s): # size of s only\n",
        "  return permutations(s, len(s))"
      ],
      "execution_count": 0,
      "outputs": []
    },
    {
      "cell_type": "code",
      "metadata": {
        "id": "vS_kP2fMvLZl",
        "colab_type": "code",
        "colab": {
          "base_uri": "https://localhost:8080/",
          "height": 425
        },
        "outputId": "e0a59aa0-3881-4b29-a8d5-1f5b293535e7"
      },
      "source": [
        "for permut in return_permutations(\"shay\"):\n",
        "  print(permut)"
      ],
      "execution_count": 4,
      "outputs": [
        {
          "output_type": "stream",
          "text": [
            "('s', 'h', 'a', 'y')\n",
            "('s', 'h', 'y', 'a')\n",
            "('s', 'a', 'h', 'y')\n",
            "('s', 'a', 'y', 'h')\n",
            "('s', 'y', 'h', 'a')\n",
            "('s', 'y', 'a', 'h')\n",
            "('h', 's', 'a', 'y')\n",
            "('h', 's', 'y', 'a')\n",
            "('h', 'a', 's', 'y')\n",
            "('h', 'a', 'y', 's')\n",
            "('h', 'y', 's', 'a')\n",
            "('h', 'y', 'a', 's')\n",
            "('a', 's', 'h', 'y')\n",
            "('a', 's', 'y', 'h')\n",
            "('a', 'h', 's', 'y')\n",
            "('a', 'h', 'y', 's')\n",
            "('a', 'y', 's', 'h')\n",
            "('a', 'y', 'h', 's')\n",
            "('y', 's', 'h', 'a')\n",
            "('y', 's', 'a', 'h')\n",
            "('y', 'h', 's', 'a')\n",
            "('y', 'h', 'a', 's')\n",
            "('y', 'a', 's', 'h')\n",
            "('y', 'a', 'h', 's')\n"
          ],
          "name": "stdout"
        }
      ]
    },
    {
      "cell_type": "markdown",
      "metadata": {
        "id": "GugIE2TbvWKK",
        "colab_type": "text"
      },
      "source": [
        "P-1.30 Write a Python program that can take a positive integer greater than 2 as\n",
        "input and write out the number of times one must repeatedly divide this\n",
        "number by 2 before getting a value less than 2."
      ]
    },
    {
      "cell_type": "code",
      "metadata": {
        "id": "RGSLG8O9vU1T",
        "colab_type": "code",
        "colab": {}
      },
      "source": [
        "def times(n):\n",
        "  if n <= 2:\n",
        "    return\n",
        "  cnt = 0\n",
        "  while True:\n",
        "    n = n / 2 \n",
        "    if n >= 2:\n",
        "      cnt += 1\n",
        "    else:\n",
        "      break\n",
        "  return cnt"
      ],
      "execution_count": 0,
      "outputs": []
    },
    {
      "cell_type": "code",
      "metadata": {
        "id": "Dp4dkvASw-5F",
        "colab_type": "code",
        "colab": {
          "base_uri": "https://localhost:8080/",
          "height": 34
        },
        "outputId": "fa4c3a99-5bda-4823-d571-8b7ecd9603f8"
      },
      "source": [
        "times(10)"
      ],
      "execution_count": 15,
      "outputs": [
        {
          "output_type": "execute_result",
          "data": {
            "text/plain": [
              "2"
            ]
          },
          "metadata": {
            "tags": []
          },
          "execution_count": 15
        }
      ]
    },
    {
      "cell_type": "code",
      "metadata": {
        "id": "XsYTt2Rzw_pF",
        "colab_type": "code",
        "colab": {
          "base_uri": "https://localhost:8080/",
          "height": 34
        },
        "outputId": "4d7853fa-bccc-4c41-e344-9a34777959f4"
      },
      "source": [
        "times(30)"
      ],
      "execution_count": 16,
      "outputs": [
        {
          "output_type": "execute_result",
          "data": {
            "text/plain": [
              "3"
            ]
          },
          "metadata": {
            "tags": []
          },
          "execution_count": 16
        }
      ]
    },
    {
      "cell_type": "code",
      "metadata": {
        "id": "ithg3PhCxBZ1",
        "colab_type": "code",
        "colab": {
          "base_uri": "https://localhost:8080/",
          "height": 34
        },
        "outputId": "3d7a1e3e-a7f5-4f9b-85d9-11f4e37f9395"
      },
      "source": [
        "times(90)"
      ],
      "execution_count": 17,
      "outputs": [
        {
          "output_type": "execute_result",
          "data": {
            "text/plain": [
              "5"
            ]
          },
          "metadata": {
            "tags": []
          },
          "execution_count": 17
        }
      ]
    },
    {
      "cell_type": "markdown",
      "metadata": {
        "id": "nzJK5H1M4xIF",
        "colab_type": "text"
      },
      "source": [
        "P-1.31 Write a Python program that can “make change.” Your program should\n",
        "take two numbers as input, one that is a monetary amount charged and the\n",
        "other that is a monetary amount given. It should then return the number\n",
        "of each kind of bill and coin to give back as change for the difference\n",
        "between the amount given and the amount charged. The values assigned\n",
        "to the bills and coins can be based on the monetary system of any current\n",
        "or former government. Try to design your program so that it returns as\n",
        "few bills and coins as possible."
      ]
    },
    {
      "cell_type": "code",
      "metadata": {
        "id": "8I00JDXE4xke",
        "colab_type": "code",
        "colab": {}
      },
      "source": [
        "money = [0.01, 0.05, 0.1, 0.25, 1, 5, 10, 20, 50, 100]"
      ],
      "execution_count": 0,
      "outputs": []
    },
    {
      "cell_type": "code",
      "metadata": {
        "id": "03YxlI5hI-_f",
        "colab_type": "code",
        "colab": {}
      },
      "source": [
        "def calc(change):\n",
        "  for amount in money[::-1]:\n",
        "    while change // amount != 0:\n",
        "      print(f\"For a change of {change}, you need to return {amount} times {change // amount}\")\n",
        "      change = change % amount\n",
        "      "
      ],
      "execution_count": 0,
      "outputs": []
    },
    {
      "cell_type": "code",
      "metadata": {
        "id": "ftrgaF_0Jm4H",
        "colab_type": "code",
        "colab": {
          "base_uri": "https://localhost:8080/",
          "height": 85
        },
        "outputId": "211ab613-3111-44aa-e1aa-548e975cfc6b"
      },
      "source": [
        "calc(36)"
      ],
      "execution_count": 58,
      "outputs": [
        {
          "output_type": "stream",
          "text": [
            "For a change of 36, you need to return 20 times 1\n",
            "For a change of 16, you need to return 10 times 1\n",
            "For a change of 6, you need to return 5 times 1\n",
            "For a change of 1, you need to return 1 times 1\n"
          ],
          "name": "stdout"
        }
      ]
    },
    {
      "cell_type": "code",
      "metadata": {
        "id": "-m-HAs30Jn1c",
        "colab_type": "code",
        "colab": {
          "base_uri": "https://localhost:8080/",
          "height": 51
        },
        "outputId": "279b96a6-b0ac-4bb6-a427-6163bf871ec7"
      },
      "source": [
        "calc(41)"
      ],
      "execution_count": 59,
      "outputs": [
        {
          "output_type": "stream",
          "text": [
            "For a change of 41, you need to return 20 times 2\n",
            "For a change of 1, you need to return 1 times 1\n"
          ],
          "name": "stdout"
        }
      ]
    },
    {
      "cell_type": "code",
      "metadata": {
        "id": "jmnQnGtzKiMk",
        "colab_type": "code",
        "colab": {
          "base_uri": "https://localhost:8080/",
          "height": 34
        },
        "outputId": "0acf8885-b157-4bac-d3a0-d0dcb8e03839"
      },
      "source": [
        "calc(2000)"
      ],
      "execution_count": 60,
      "outputs": [
        {
          "output_type": "stream",
          "text": [
            "For a change of 2000, you need to return 100 times 20\n"
          ],
          "name": "stdout"
        }
      ]
    },
    {
      "cell_type": "code",
      "metadata": {
        "id": "RC4gwPasMDKW",
        "colab_type": "code",
        "colab": {
          "base_uri": "https://localhost:8080/",
          "height": 68
        },
        "outputId": "fa25d24e-3fdb-4611-bd49-7c80926a9d03"
      },
      "source": [
        "calc(12312390123)"
      ],
      "execution_count": 61,
      "outputs": [
        {
          "output_type": "stream",
          "text": [
            "For a change of 12312390123, you need to return 100 times 123123901\n",
            "For a change of 23, you need to return 20 times 1\n",
            "For a change of 3, you need to return 1 times 3\n"
          ],
          "name": "stdout"
        }
      ]
    },
    {
      "cell_type": "code",
      "metadata": {
        "id": "UaYTeAKhMOOQ",
        "colab_type": "code",
        "colab": {}
      },
      "source": [
        "calc(0)"
      ],
      "execution_count": 0,
      "outputs": []
    },
    {
      "cell_type": "code",
      "metadata": {
        "id": "S_r1m2PlMTXb",
        "colab_type": "code",
        "colab": {}
      },
      "source": [
        ""
      ],
      "execution_count": 0,
      "outputs": []
    }
  ]
}