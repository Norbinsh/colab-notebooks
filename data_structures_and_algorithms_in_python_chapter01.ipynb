{
  "nbformat": 4,
  "nbformat_minor": 0,
  "metadata": {
    "colab": {
      "name": "data_structures_and_algorithms_in_python_chapter01.ipynb",
      "version": "0.3.2",
      "provenance": [],
      "collapsed_sections": [],
      "include_colab_link": true
    },
    "kernelspec": {
      "name": "python3",
      "display_name": "Python 3"
    }
  },
  "cells": [
    {
      "cell_type": "markdown",
      "metadata": {
        "id": "view-in-github",
        "colab_type": "text"
      },
      "source": [
        "<a href=\"https://colab.research.google.com/github/Norbinsh/colab-notebooks/blob/master/data_structures_and_algorithms_in_python_chapter01.ipynb\" target=\"_parent\"><img src=\"https://colab.research.google.com/assets/colab-badge.svg\" alt=\"Open In Colab\"/></a>"
      ]
    },
    {
      "cell_type": "markdown",
      "metadata": {
        "id": "CyfVemWBvElB",
        "colab_type": "text"
      },
      "source": [
        "### *Reinforcement* (Python 3.6.7)"
      ]
    },
    {
      "cell_type": "code",
      "metadata": {
        "id": "m0VQoaYG2QLo",
        "colab_type": "code",
        "colab": {}
      },
      "source": [
        "from typing import List"
      ],
      "execution_count": 0,
      "outputs": []
    },
    {
      "cell_type": "markdown",
      "metadata": {
        "id": "e_6HYWOjvKsy",
        "colab_type": "text"
      },
      "source": [
        "R-1.1 Write a short Python function, is multiple(n, m), that takes two integer\n",
        "values and returns True if n is a multiple of m, that is, n = mi for some\n",
        "integer i, and False otherwise."
      ]
    },
    {
      "cell_type": "code",
      "metadata": {
        "id": "KXbotPxivFx6",
        "colab_type": "code",
        "colab": {}
      },
      "source": [
        "def is_multiple(n: int, m: int) -> bool:\n",
        "  \"\"\"checks whether n is a multiple of m\"\"\"\n",
        "  if n % m == 0:\n",
        "    return True\n",
        "  else:\n",
        "    return False"
      ],
      "execution_count": 0,
      "outputs": []
    },
    {
      "cell_type": "code",
      "metadata": {
        "id": "clrU50Lt1v_P",
        "colab_type": "code",
        "colab": {
          "base_uri": "https://localhost:8080/",
          "height": 34
        },
        "outputId": "0c3fb1dd-7dca-4af4-b5f0-0154e843113a"
      },
      "source": [
        "is_multiple(9, 2)"
      ],
      "execution_count": 68,
      "outputs": [
        {
          "output_type": "execute_result",
          "data": {
            "text/plain": [
              "False"
            ]
          },
          "metadata": {
            "tags": []
          },
          "execution_count": 68
        }
      ]
    },
    {
      "cell_type": "code",
      "metadata": {
        "id": "9bdlpb3xwysx",
        "colab_type": "code",
        "colab": {
          "base_uri": "https://localhost:8080/",
          "height": 34
        },
        "outputId": "04b8fdeb-987b-4875-eab6-a835fe050ddd"
      },
      "source": [
        "is_multiple(10, 2)"
      ],
      "execution_count": 69,
      "outputs": [
        {
          "output_type": "execute_result",
          "data": {
            "text/plain": [
              "True"
            ]
          },
          "metadata": {
            "tags": []
          },
          "execution_count": 69
        }
      ]
    },
    {
      "cell_type": "markdown",
      "metadata": {
        "id": "LQH3FsDDxkNY",
        "colab_type": "text"
      },
      "source": [
        "R-1.2 Write a short Python function, is even(k), that takes an integer value and\n",
        "returns True if k is even, and False otherwise. However, your function\n",
        "cannot use the multiplication, modulo, or division operators."
      ]
    },
    {
      "cell_type": "code",
      "metadata": {
        "id": "ORIbmmmhxm58",
        "colab_type": "code",
        "colab": {}
      },
      "source": [
        "def is_even(k: int) -> bool:\n",
        "  \"\"\"checks whether k is even\"\"\"\n",
        "  even = True\n",
        "  for i in range(1, k+1):\n",
        "    if even:\n",
        "      even = False\n",
        "    else:\n",
        "      even = True\n",
        "  return even\n",
        "\n",
        "    "
      ],
      "execution_count": 0,
      "outputs": []
    },
    {
      "cell_type": "code",
      "metadata": {
        "id": "L_dqd-410UPz",
        "colab_type": "code",
        "colab": {
          "base_uri": "https://localhost:8080/",
          "height": 34
        },
        "outputId": "4dd0106e-621a-463f-aa0e-a85a889d1f76"
      },
      "source": [
        "is_even(6)"
      ],
      "execution_count": 71,
      "outputs": [
        {
          "output_type": "execute_result",
          "data": {
            "text/plain": [
              "True"
            ]
          },
          "metadata": {
            "tags": []
          },
          "execution_count": 71
        }
      ]
    },
    {
      "cell_type": "code",
      "metadata": {
        "id": "tpMAU1ID0VvR",
        "colab_type": "code",
        "colab": {
          "base_uri": "https://localhost:8080/",
          "height": 34
        },
        "outputId": "ae123439-4548-4bb3-e35b-819c04842fbc"
      },
      "source": [
        "is_even(5)"
      ],
      "execution_count": 72,
      "outputs": [
        {
          "output_type": "execute_result",
          "data": {
            "text/plain": [
              "False"
            ]
          },
          "metadata": {
            "tags": []
          },
          "execution_count": 72
        }
      ]
    },
    {
      "cell_type": "markdown",
      "metadata": {
        "id": "R-L9cJcR08pQ",
        "colab_type": "text"
      },
      "source": [
        "R-1.3 Write a short Python function, minmax(data), that takes a sequence of\n",
        "one or more numbers, and returns the smallest and largest numbers, in the\n",
        "form of a tuple of length two. Do not use the built-in functions min or\n",
        "max in implementing your solution."
      ]
    },
    {
      "cell_type": "code",
      "metadata": {
        "id": "lhGYCJGF0-0j",
        "colab_type": "code",
        "colab": {}
      },
      "source": [
        "def minmax(data: List) -> tuple:\n",
        "  \"\"\"takes a sequence of one or more numbers,\n",
        "  and returns the smallest and largest numbers as a tuple\"\"\"\n",
        "  sorted_data = sorted(data)\n",
        "  return (sorted_data[0], sorted_data[-1])\n",
        "  \n",
        "  \n",
        "  "
      ],
      "execution_count": 0,
      "outputs": []
    },
    {
      "cell_type": "code",
      "metadata": {
        "id": "aSadmn2p2efr",
        "colab_type": "code",
        "colab": {
          "base_uri": "https://localhost:8080/",
          "height": 34
        },
        "outputId": "f9765924-d82e-459c-ff88-bd1e3a177c55"
      },
      "source": [
        "minmax([5,6,9,1])"
      ],
      "execution_count": 74,
      "outputs": [
        {
          "output_type": "execute_result",
          "data": {
            "text/plain": [
              "(1, 9)"
            ]
          },
          "metadata": {
            "tags": []
          },
          "execution_count": 74
        }
      ]
    },
    {
      "cell_type": "code",
      "metadata": {
        "id": "R9RTS39w3fRM",
        "colab_type": "code",
        "colab": {
          "base_uri": "https://localhost:8080/",
          "height": 34
        },
        "outputId": "e31ba751-c084-4b4f-ca52-e14ce1f8a3c1"
      },
      "source": [
        "minmax([3])"
      ],
      "execution_count": 75,
      "outputs": [
        {
          "output_type": "execute_result",
          "data": {
            "text/plain": [
              "(3, 3)"
            ]
          },
          "metadata": {
            "tags": []
          },
          "execution_count": 75
        }
      ]
    },
    {
      "cell_type": "code",
      "metadata": {
        "id": "E-8xUGaDB-Go",
        "colab_type": "code",
        "colab": {
          "base_uri": "https://localhost:8080/",
          "height": 34
        },
        "outputId": "4206382f-652f-4d47-e6a9-22d6d91aa5d1"
      },
      "source": [
        "minmax((5,6,9,1))"
      ],
      "execution_count": 76,
      "outputs": [
        {
          "output_type": "execute_result",
          "data": {
            "text/plain": [
              "(1, 9)"
            ]
          },
          "metadata": {
            "tags": []
          },
          "execution_count": 76
        }
      ]
    },
    {
      "cell_type": "code",
      "metadata": {
        "id": "YO-Lpz90CCH7",
        "colab_type": "code",
        "colab": {
          "base_uri": "https://localhost:8080/",
          "height": 34
        },
        "outputId": "e85324a2-f81f-4e86-f6b4-a90735386396"
      },
      "source": [
        "minmax(range(1,10))"
      ],
      "execution_count": 77,
      "outputs": [
        {
          "output_type": "execute_result",
          "data": {
            "text/plain": [
              "(1, 9)"
            ]
          },
          "metadata": {
            "tags": []
          },
          "execution_count": 77
        }
      ]
    },
    {
      "cell_type": "markdown",
      "metadata": {
        "id": "Ac2ygo3P31kk",
        "colab_type": "text"
      },
      "source": [
        "R-1.4 Write a short Python function that takes a positive integer n and returns\n",
        "the sum of the squares of all the positive integers smaller than n."
      ]
    },
    {
      "cell_type": "code",
      "metadata": {
        "id": "QP3QSURL35iN",
        "colab_type": "code",
        "colab": {}
      },
      "source": [
        "def sum_squares(n: int) -> int:\n",
        "  \"\"\"returns the sum of square of positive integers small than n, exclusive\"\"\"\n",
        "  n -= 1\n",
        "  sqsum = 0\n",
        "  while n > 0:\n",
        "    sqsum += n * n\n",
        "    n -= 1\n",
        "  return  sqsum"
      ],
      "execution_count": 0,
      "outputs": []
    },
    {
      "cell_type": "code",
      "metadata": {
        "id": "ZKxP89dSC2X7",
        "colab_type": "code",
        "colab": {
          "base_uri": "https://localhost:8080/",
          "height": 34
        },
        "outputId": "efac962e-a021-4f03-8b92-95567be3f9b3"
      },
      "source": [
        "sum_squares(90)"
      ],
      "execution_count": 79,
      "outputs": [
        {
          "output_type": "execute_result",
          "data": {
            "text/plain": [
              "238965"
            ]
          },
          "metadata": {
            "tags": []
          },
          "execution_count": 79
        }
      ]
    },
    {
      "cell_type": "markdown",
      "metadata": {
        "id": "2eNrvMuwEKEC",
        "colab_type": "text"
      },
      "source": [
        "R-1.5 Give a single command that computes the sum from Exercise R-1.4, relying on Python’s comprehension syntax and the built-in sum function."
      ]
    },
    {
      "cell_type": "code",
      "metadata": {
        "id": "lqY3kGo_E2tB",
        "colab_type": "code",
        "colab": {}
      },
      "source": [
        "def sum_squares(n: int) -> int:\n",
        "  \"\"\"returns the sum of square of positive integers small than n, exclusive\"\"\"\n",
        "  return sum([x ** 2 for x in range(1, n) if x > 0])"
      ],
      "execution_count": 0,
      "outputs": []
    },
    {
      "cell_type": "code",
      "metadata": {
        "id": "LPDtn0G0GS8P",
        "colab_type": "code",
        "colab": {
          "base_uri": "https://localhost:8080/",
          "height": 34
        },
        "outputId": "14b66725-ff08-4c14-9c6e-b341968b73ac"
      },
      "source": [
        "sum_squares(90)"
      ],
      "execution_count": 85,
      "outputs": [
        {
          "output_type": "execute_result",
          "data": {
            "text/plain": [
              "238965"
            ]
          },
          "metadata": {
            "tags": []
          },
          "execution_count": 85
        }
      ]
    },
    {
      "cell_type": "code",
      "metadata": {
        "id": "_fyP3VifGVET",
        "colab_type": "code",
        "colab": {}
      },
      "source": [
        ""
      ],
      "execution_count": 0,
      "outputs": []
    }
  ]
}