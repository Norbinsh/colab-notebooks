{
  "nbformat": 4,
  "nbformat_minor": 0,
  "metadata": {
    "colab": {
      "name": "data_structures_and_algorithms_in_python_chapter01.ipynb",
      "version": "0.3.2",
      "provenance": [],
      "collapsed_sections": [],
      "include_colab_link": true
    },
    "kernelspec": {
      "name": "python3",
      "display_name": "Python 3"
    }
  },
  "cells": [
    {
      "cell_type": "markdown",
      "metadata": {
        "id": "view-in-github",
        "colab_type": "text"
      },
      "source": [
        "<a href=\"https://colab.research.google.com/github/Norbinsh/colab-notebooks/blob/master/data_structures_and_algorithms_in_python_chapter01.ipynb\" target=\"_parent\"><img src=\"https://colab.research.google.com/assets/colab-badge.svg\" alt=\"Open In Colab\"/></a>"
      ]
    },
    {
      "cell_type": "markdown",
      "metadata": {
        "id": "2bQSqU0Mq0zv",
        "colab_type": "text"
      },
      "source": [
        ""
      ]
    },
    {
      "cell_type": "markdown",
      "metadata": {
        "id": "CyfVemWBvElB",
        "colab_type": "text"
      },
      "source": [
        "### *Reinforcement* (Python 3.6.7)"
      ]
    },
    {
      "cell_type": "markdown",
      "metadata": {
        "id": "e_6HYWOjvKsy",
        "colab_type": "text"
      },
      "source": [
        "R-1.1"
      ]
    },
    {
      "cell_type": "code",
      "metadata": {
        "id": "KXbotPxivFx6",
        "colab_type": "code",
        "colab": {}
      },
      "source": [
        "def is_multiple(n: int, m: int) -> bool:\n",
        "  if n % m == 0:\n",
        "    return True\n",
        "  else:\n",
        "    return False"
      ],
      "execution_count": 0,
      "outputs": []
    },
    {
      "cell_type": "code",
      "metadata": {
        "id": "9bdlpb3xwysx",
        "colab_type": "code",
        "colab": {
          "base_uri": "https://localhost:8080/",
          "height": 34
        },
        "outputId": "bc11f6c0-f415-4c62-b2be-49f09e3dce63"
      },
      "source": [
        "is_multiple(10, 2)"
      ],
      "execution_count": 9,
      "outputs": [
        {
          "output_type": "execute_result",
          "data": {
            "text/plain": [
              "True"
            ]
          },
          "metadata": {
            "tags": []
          },
          "execution_count": 9
        }
      ]
    },
    {
      "cell_type": "markdown",
      "metadata": {
        "id": "LQH3FsDDxkNY",
        "colab_type": "text"
      },
      "source": [
        "R-1.2"
      ]
    },
    {
      "cell_type": "code",
      "metadata": {
        "id": "ORIbmmmhxm58",
        "colab_type": "code",
        "colab": {}
      },
      "source": [
        "def is_even(k: int) -> bool:\n",
        "  \"\"\"FTFTFTFTFT\"\"\"\n",
        "  even = True\n",
        "  for i in range(1, k+1):\n",
        "    if even:\n",
        "      even = False\n",
        "    else:\n",
        "      even = True\n",
        "  return even\n",
        "\n",
        "    "
      ],
      "execution_count": 0,
      "outputs": []
    },
    {
      "cell_type": "code",
      "metadata": {
        "id": "L_dqd-410UPz",
        "colab_type": "code",
        "colab": {
          "base_uri": "https://localhost:8080/",
          "height": 34
        },
        "outputId": "914d8b55-fce0-4a39-b9f2-5ca6f753a849"
      },
      "source": [
        "is_even(6)"
      ],
      "execution_count": 12,
      "outputs": [
        {
          "output_type": "execute_result",
          "data": {
            "text/plain": [
              "True"
            ]
          },
          "metadata": {
            "tags": []
          },
          "execution_count": 12
        }
      ]
    },
    {
      "cell_type": "code",
      "metadata": {
        "id": "tpMAU1ID0VvR",
        "colab_type": "code",
        "colab": {
          "base_uri": "https://localhost:8080/",
          "height": 34
        },
        "outputId": "28e22073-5eca-4da2-ceb5-a4454cfe2442"
      },
      "source": [
        "is_even(5)"
      ],
      "execution_count": 13,
      "outputs": [
        {
          "output_type": "execute_result",
          "data": {
            "text/plain": [
              "False"
            ]
          },
          "metadata": {
            "tags": []
          },
          "execution_count": 13
        }
      ]
    },
    {
      "cell_type": "markdown",
      "metadata": {
        "id": "R-L9cJcR08pQ",
        "colab_type": "text"
      },
      "source": [
        "R-1.3"
      ]
    },
    {
      "cell_type": "code",
      "metadata": {
        "id": "lhGYCJGF0-0j",
        "colab_type": "code",
        "colab": {}
      },
      "source": [
        ""
      ],
      "execution_count": 0,
      "outputs": []
    }
  ]
}