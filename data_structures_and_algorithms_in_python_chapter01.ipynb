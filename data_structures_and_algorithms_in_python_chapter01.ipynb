{
  "nbformat": 4,
  "nbformat_minor": 0,
  "metadata": {
    "colab": {
      "name": "data_structures_and_algorithms_in_python_chapter01.ipynb",
      "version": "0.3.2",
      "provenance": [],
      "collapsed_sections": [],
      "include_colab_link": true
    },
    "kernelspec": {
      "name": "python3",
      "display_name": "Python 3"
    }
  },
  "cells": [
    {
      "cell_type": "markdown",
      "metadata": {
        "id": "view-in-github",
        "colab_type": "text"
      },
      "source": [
        "<a href=\"https://colab.research.google.com/github/Norbinsh/colab-notebooks/blob/master/data_structures_and_algorithms_in_python_chapter01.ipynb\" target=\"_parent\"><img src=\"https://colab.research.google.com/assets/colab-badge.svg\" alt=\"Open In Colab\"/></a>"
      ]
    },
    {
      "cell_type": "markdown",
      "metadata": {
        "id": "CyfVemWBvElB",
        "colab_type": "text"
      },
      "source": [
        "### *Reinforcement* (Python 3.6.7)"
      ]
    },
    {
      "cell_type": "code",
      "metadata": {
        "id": "m0VQoaYG2QLo",
        "colab_type": "code",
        "colab": {}
      },
      "source": [
        "from typing import List"
      ],
      "execution_count": 0,
      "outputs": []
    },
    {
      "cell_type": "markdown",
      "metadata": {
        "id": "e_6HYWOjvKsy",
        "colab_type": "text"
      },
      "source": [
        "R-1.1 Write a short Python function, is multiple(n, m), that takes two integer\n",
        "values and returns True if n is a multiple of m, that is, n = mi for some\n",
        "integer i, and False otherwise."
      ]
    },
    {
      "cell_type": "code",
      "metadata": {
        "id": "KXbotPxivFx6",
        "colab_type": "code",
        "colab": {}
      },
      "source": [
        "def is_multiple(n: int, m: int) -> bool:\n",
        "  \"\"\"checks whether n is a multiple of m\"\"\"\n",
        "  if n % m == 0:\n",
        "    return True\n",
        "  else:\n",
        "    return False"
      ],
      "execution_count": 0,
      "outputs": []
    },
    {
      "cell_type": "code",
      "metadata": {
        "id": "clrU50Lt1v_P",
        "colab_type": "code",
        "colab": {
          "base_uri": "https://localhost:8080/",
          "height": 34
        },
        "outputId": "4772b453-805c-4c4d-b14b-19f27e725a5b"
      },
      "source": [
        "is_multiple(9, 2)"
      ],
      "execution_count": 19,
      "outputs": [
        {
          "output_type": "execute_result",
          "data": {
            "text/plain": [
              "False"
            ]
          },
          "metadata": {
            "tags": []
          },
          "execution_count": 19
        }
      ]
    },
    {
      "cell_type": "code",
      "metadata": {
        "id": "9bdlpb3xwysx",
        "colab_type": "code",
        "colab": {
          "base_uri": "https://localhost:8080/",
          "height": 34
        },
        "outputId": "14d3e0e8-499d-4292-ce98-1f3a80291256"
      },
      "source": [
        "is_multiple(10, 2)"
      ],
      "execution_count": 20,
      "outputs": [
        {
          "output_type": "execute_result",
          "data": {
            "text/plain": [
              "True"
            ]
          },
          "metadata": {
            "tags": []
          },
          "execution_count": 20
        }
      ]
    },
    {
      "cell_type": "markdown",
      "metadata": {
        "id": "LQH3FsDDxkNY",
        "colab_type": "text"
      },
      "source": [
        "R-1.2 Write a short Python function, is even(k), that takes an integer value and\n",
        "returns True if k is even, and False otherwise. However, your function\n",
        "cannot use the multiplication, modulo, or division operators."
      ]
    },
    {
      "cell_type": "code",
      "metadata": {
        "id": "ORIbmmmhxm58",
        "colab_type": "code",
        "colab": {}
      },
      "source": [
        "def is_even(k: int) -> bool:\n",
        "  \"\"\"checks whether k is even\"\"\"\n",
        "  even = True\n",
        "  for i in range(1, k+1):\n",
        "    if even:\n",
        "      even = False\n",
        "    else:\n",
        "      even = True\n",
        "  return even\n",
        "\n",
        "    "
      ],
      "execution_count": 0,
      "outputs": []
    },
    {
      "cell_type": "code",
      "metadata": {
        "id": "L_dqd-410UPz",
        "colab_type": "code",
        "colab": {
          "base_uri": "https://localhost:8080/",
          "height": 34
        },
        "outputId": "893f6e6a-7500-4798-c3b5-5f4797c4cb7c"
      },
      "source": [
        "is_even(6)"
      ],
      "execution_count": 22,
      "outputs": [
        {
          "output_type": "execute_result",
          "data": {
            "text/plain": [
              "True"
            ]
          },
          "metadata": {
            "tags": []
          },
          "execution_count": 22
        }
      ]
    },
    {
      "cell_type": "code",
      "metadata": {
        "id": "tpMAU1ID0VvR",
        "colab_type": "code",
        "colab": {
          "base_uri": "https://localhost:8080/",
          "height": 34
        },
        "outputId": "87b19d9c-3e2f-43ba-c3b6-fdbadac6ed75"
      },
      "source": [
        "is_even(5)"
      ],
      "execution_count": 23,
      "outputs": [
        {
          "output_type": "execute_result",
          "data": {
            "text/plain": [
              "False"
            ]
          },
          "metadata": {
            "tags": []
          },
          "execution_count": 23
        }
      ]
    },
    {
      "cell_type": "markdown",
      "metadata": {
        "id": "R-L9cJcR08pQ",
        "colab_type": "text"
      },
      "source": [
        "R-1.3 Write a short Python function, minmax(data), that takes a sequence of\n",
        "one or more numbers, and returns the smallest and largest numbers, in the\n",
        "form of a tuple of length two. Do not use the built-in functions min or\n",
        "max in implementing your solution."
      ]
    },
    {
      "cell_type": "code",
      "metadata": {
        "id": "lhGYCJGF0-0j",
        "colab_type": "code",
        "colab": {}
      },
      "source": [
        "def minmax(data: List) -> tuple:\n",
        "  \"\"\"takes a sequence of one or more numbers,\n",
        "  and returns the smallest and largest numbers as a tuple\"\"\"\n",
        "  sorted_data = sorted(data)\n",
        "  return (sorted_data[0], sorted_data[-1])\n",
        "  \n",
        "  \n",
        "  "
      ],
      "execution_count": 0,
      "outputs": []
    },
    {
      "cell_type": "code",
      "metadata": {
        "id": "aSadmn2p2efr",
        "colab_type": "code",
        "colab": {
          "base_uri": "https://localhost:8080/",
          "height": 34
        },
        "outputId": "e25a432c-7730-4598-a5e0-89e6862c9b99"
      },
      "source": [
        "minmax([5,6,9,1])"
      ],
      "execution_count": 35,
      "outputs": [
        {
          "output_type": "execute_result",
          "data": {
            "text/plain": [
              "(1, 9)"
            ]
          },
          "metadata": {
            "tags": []
          },
          "execution_count": 35
        }
      ]
    },
    {
      "cell_type": "code",
      "metadata": {
        "id": "R9RTS39w3fRM",
        "colab_type": "code",
        "colab": {
          "base_uri": "https://localhost:8080/",
          "height": 34
        },
        "outputId": "bd406db9-d9cd-4055-a6d1-b53b3e384a2b"
      },
      "source": [
        "minmax([3])"
      ],
      "execution_count": 36,
      "outputs": [
        {
          "output_type": "execute_result",
          "data": {
            "text/plain": [
              "(3, 3)"
            ]
          },
          "metadata": {
            "tags": []
          },
          "execution_count": 36
        }
      ]
    },
    {
      "cell_type": "markdown",
      "metadata": {
        "id": "Ac2ygo3P31kk",
        "colab_type": "text"
      },
      "source": [
        "R-1.4 Write a short Python function that takes a positive integer n and returns\n",
        "the sum of the squares of all the positive integers smaller than n."
      ]
    },
    {
      "cell_type": "code",
      "metadata": {
        "id": "QP3QSURL35iN",
        "colab_type": "code",
        "colab": {}
      },
      "source": [
        ""
      ],
      "execution_count": 0,
      "outputs": []
    }
  ]
}