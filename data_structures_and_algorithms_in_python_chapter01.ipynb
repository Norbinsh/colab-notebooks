{
  "nbformat": 4,
  "nbformat_minor": 0,
  "metadata": {
    "colab": {
      "name": "data_structures_and_algorithms_in_python_chapter01.ipynb",
      "version": "0.3.2",
      "provenance": [],
      "collapsed_sections": [],
      "include_colab_link": true
    },
    "kernelspec": {
      "name": "python3",
      "display_name": "Python 3"
    }
  },
  "cells": [
    {
      "cell_type": "markdown",
      "metadata": {
        "id": "view-in-github",
        "colab_type": "text"
      },
      "source": [
        "<a href=\"https://colab.research.google.com/github/Norbinsh/colab-notebooks/blob/master/data_structures_and_algorithms_in_python_chapter01.ipynb\" target=\"_parent\"><img src=\"https://colab.research.google.com/assets/colab-badge.svg\" alt=\"Open In Colab\"/></a>"
      ]
    },
    {
      "cell_type": "markdown",
      "metadata": {
        "id": "CyfVemWBvElB",
        "colab_type": "text"
      },
      "source": [
        "### *Reinforcement* (Python 3.6.7)"
      ]
    },
    {
      "cell_type": "code",
      "metadata": {
        "id": "m0VQoaYG2QLo",
        "colab_type": "code",
        "colab": {}
      },
      "source": [
        "from typing import List"
      ],
      "execution_count": 0,
      "outputs": []
    },
    {
      "cell_type": "markdown",
      "metadata": {
        "id": "e_6HYWOjvKsy",
        "colab_type": "text"
      },
      "source": [
        "R-1.1 Write a short Python function, is multiple(n, m), that takes two integer\n",
        "values and returns True if n is a multiple of m, that is, n = mi for some\n",
        "integer i, and False otherwise."
      ]
    },
    {
      "cell_type": "code",
      "metadata": {
        "id": "KXbotPxivFx6",
        "colab_type": "code",
        "colab": {}
      },
      "source": [
        "def is_multiple(n: int, m: int) -> bool:\n",
        "  \"\"\"checks whether n is a multiple of m\"\"\"\n",
        "  if n % m == 0:\n",
        "    return True\n",
        "  else:\n",
        "    return False"
      ],
      "execution_count": 0,
      "outputs": []
    },
    {
      "cell_type": "code",
      "metadata": {
        "id": "clrU50Lt1v_P",
        "colab_type": "code",
        "colab": {
          "base_uri": "https://localhost:8080/",
          "height": 34
        },
        "outputId": "e0e1dbb1-eaeb-4d13-994b-7b994c5091d0"
      },
      "source": [
        "is_multiple(9, 2)"
      ],
      "execution_count": 239,
      "outputs": [
        {
          "output_type": "execute_result",
          "data": {
            "text/plain": [
              "False"
            ]
          },
          "metadata": {
            "tags": []
          },
          "execution_count": 239
        }
      ]
    },
    {
      "cell_type": "code",
      "metadata": {
        "id": "9bdlpb3xwysx",
        "colab_type": "code",
        "colab": {
          "base_uri": "https://localhost:8080/",
          "height": 34
        },
        "outputId": "baa48078-700a-41d9-b4e2-fda5506ee5e2"
      },
      "source": [
        "is_multiple(10, 2)"
      ],
      "execution_count": 240,
      "outputs": [
        {
          "output_type": "execute_result",
          "data": {
            "text/plain": [
              "True"
            ]
          },
          "metadata": {
            "tags": []
          },
          "execution_count": 240
        }
      ]
    },
    {
      "cell_type": "markdown",
      "metadata": {
        "id": "LQH3FsDDxkNY",
        "colab_type": "text"
      },
      "source": [
        "R-1.2 Write a short Python function, is even(k), that takes an integer value and\n",
        "returns True if k is even, and False otherwise. However, your function\n",
        "cannot use the multiplication, modulo, or division operators."
      ]
    },
    {
      "cell_type": "code",
      "metadata": {
        "id": "ORIbmmmhxm58",
        "colab_type": "code",
        "colab": {}
      },
      "source": [
        "def is_even(k: int) -> bool:\n",
        "  \"\"\"checks whether k is even\"\"\"\n",
        "  even = True\n",
        "  for i in range(1, k+1):\n",
        "    if even:\n",
        "      even = False\n",
        "    else:\n",
        "      even = True\n",
        "  return even\n",
        "\n",
        "    "
      ],
      "execution_count": 0,
      "outputs": []
    },
    {
      "cell_type": "code",
      "metadata": {
        "id": "L_dqd-410UPz",
        "colab_type": "code",
        "colab": {
          "base_uri": "https://localhost:8080/",
          "height": 34
        },
        "outputId": "c27917c5-d2d5-4e31-f550-4b269bb0dd4b"
      },
      "source": [
        "is_even(6)"
      ],
      "execution_count": 242,
      "outputs": [
        {
          "output_type": "execute_result",
          "data": {
            "text/plain": [
              "True"
            ]
          },
          "metadata": {
            "tags": []
          },
          "execution_count": 242
        }
      ]
    },
    {
      "cell_type": "code",
      "metadata": {
        "id": "tpMAU1ID0VvR",
        "colab_type": "code",
        "colab": {
          "base_uri": "https://localhost:8080/",
          "height": 34
        },
        "outputId": "cca9baa3-5be6-40ae-f985-94548eeba84d"
      },
      "source": [
        "is_even(5)"
      ],
      "execution_count": 243,
      "outputs": [
        {
          "output_type": "execute_result",
          "data": {
            "text/plain": [
              "False"
            ]
          },
          "metadata": {
            "tags": []
          },
          "execution_count": 243
        }
      ]
    },
    {
      "cell_type": "markdown",
      "metadata": {
        "id": "R-L9cJcR08pQ",
        "colab_type": "text"
      },
      "source": [
        "R-1.3 Write a short Python function, minmax(data), that takes a sequence of\n",
        "one or more numbers, and returns the smallest and largest numbers, in the\n",
        "form of a tuple of length two. Do not use the built-in functions min or\n",
        "max in implementing your solution."
      ]
    },
    {
      "cell_type": "code",
      "metadata": {
        "id": "lhGYCJGF0-0j",
        "colab_type": "code",
        "colab": {}
      },
      "source": [
        "def minmax(data: List) -> tuple:\n",
        "  \"\"\"takes a sequence of one or more numbers,\n",
        "  and returns the smallest and largest numbers as a tuple\"\"\"\n",
        "  sorted_data = sorted(data)\n",
        "  return (sorted_data[0], sorted_data[-1])\n",
        "  \n",
        "  \n",
        "  "
      ],
      "execution_count": 0,
      "outputs": []
    },
    {
      "cell_type": "code",
      "metadata": {
        "id": "aSadmn2p2efr",
        "colab_type": "code",
        "colab": {
          "base_uri": "https://localhost:8080/",
          "height": 34
        },
        "outputId": "9536017c-b33f-4680-e0b8-e2a37f70bde9"
      },
      "source": [
        "minmax([5,6,9,1])"
      ],
      "execution_count": 245,
      "outputs": [
        {
          "output_type": "execute_result",
          "data": {
            "text/plain": [
              "(1, 9)"
            ]
          },
          "metadata": {
            "tags": []
          },
          "execution_count": 245
        }
      ]
    },
    {
      "cell_type": "code",
      "metadata": {
        "id": "R9RTS39w3fRM",
        "colab_type": "code",
        "colab": {
          "base_uri": "https://localhost:8080/",
          "height": 34
        },
        "outputId": "2e155352-c1a8-4f8b-ffb3-75dc911279bd"
      },
      "source": [
        "minmax([3])"
      ],
      "execution_count": 246,
      "outputs": [
        {
          "output_type": "execute_result",
          "data": {
            "text/plain": [
              "(3, 3)"
            ]
          },
          "metadata": {
            "tags": []
          },
          "execution_count": 246
        }
      ]
    },
    {
      "cell_type": "code",
      "metadata": {
        "id": "E-8xUGaDB-Go",
        "colab_type": "code",
        "colab": {
          "base_uri": "https://localhost:8080/",
          "height": 34
        },
        "outputId": "78d3e572-7aff-4d35-d842-aacb985b54c9"
      },
      "source": [
        "minmax((5,6,9,1))"
      ],
      "execution_count": 247,
      "outputs": [
        {
          "output_type": "execute_result",
          "data": {
            "text/plain": [
              "(1, 9)"
            ]
          },
          "metadata": {
            "tags": []
          },
          "execution_count": 247
        }
      ]
    },
    {
      "cell_type": "code",
      "metadata": {
        "id": "YO-Lpz90CCH7",
        "colab_type": "code",
        "colab": {
          "base_uri": "https://localhost:8080/",
          "height": 34
        },
        "outputId": "2c3f4ade-3887-4396-e6f6-aff25878a6f3"
      },
      "source": [
        "minmax(range(1,10))"
      ],
      "execution_count": 248,
      "outputs": [
        {
          "output_type": "execute_result",
          "data": {
            "text/plain": [
              "(1, 9)"
            ]
          },
          "metadata": {
            "tags": []
          },
          "execution_count": 248
        }
      ]
    },
    {
      "cell_type": "markdown",
      "metadata": {
        "id": "Ac2ygo3P31kk",
        "colab_type": "text"
      },
      "source": [
        "R-1.4 Write a short Python function that takes a positive integer n and returns\n",
        "the sum of the squares of all the positive integers smaller than n."
      ]
    },
    {
      "cell_type": "code",
      "metadata": {
        "id": "QP3QSURL35iN",
        "colab_type": "code",
        "colab": {}
      },
      "source": [
        "def sum_squares(n: int) -> int:\n",
        "  \"\"\"returns the sum of square of positive integers smaller than n, exclusive\"\"\"\n",
        "  n -= 1\n",
        "  sqsum = 0\n",
        "  while n > 0:\n",
        "    sqsum += n * n\n",
        "    n -= 1\n",
        "  return  sqsum"
      ],
      "execution_count": 0,
      "outputs": []
    },
    {
      "cell_type": "code",
      "metadata": {
        "id": "ZKxP89dSC2X7",
        "colab_type": "code",
        "colab": {
          "base_uri": "https://localhost:8080/",
          "height": 34
        },
        "outputId": "ffe4373f-1e68-46a6-e636-d9d94f3b4d82"
      },
      "source": [
        "sum_squares(5)"
      ],
      "execution_count": 250,
      "outputs": [
        {
          "output_type": "execute_result",
          "data": {
            "text/plain": [
              "30"
            ]
          },
          "metadata": {
            "tags": []
          },
          "execution_count": 250
        }
      ]
    },
    {
      "cell_type": "markdown",
      "metadata": {
        "id": "2eNrvMuwEKEC",
        "colab_type": "text"
      },
      "source": [
        "R-1.5 Give a single command that computes the sum from Exercise R-1.4, relying on Python’s comprehension syntax and the built-in sum function."
      ]
    },
    {
      "cell_type": "code",
      "metadata": {
        "id": "lqY3kGo_E2tB",
        "colab_type": "code",
        "colab": {}
      },
      "source": [
        "def sum_squares(n: int) -> int:\n",
        "  \"\"\"returns the sum of square of positive integers smaller than n, exclusive\"\"\"\n",
        "  return sum([x ** 2 for x in range(1, n) if x > 0])"
      ],
      "execution_count": 0,
      "outputs": []
    },
    {
      "cell_type": "code",
      "metadata": {
        "id": "LPDtn0G0GS8P",
        "colab_type": "code",
        "colab": {
          "base_uri": "https://localhost:8080/",
          "height": 34
        },
        "outputId": "e3981d93-da7c-4d35-9bd1-18898e8f631d"
      },
      "source": [
        "sum_squares(5)"
      ],
      "execution_count": 252,
      "outputs": [
        {
          "output_type": "execute_result",
          "data": {
            "text/plain": [
              "30"
            ]
          },
          "metadata": {
            "tags": []
          },
          "execution_count": 252
        }
      ]
    },
    {
      "cell_type": "markdown",
      "metadata": {
        "id": "Q05R_ofqHVGj",
        "colab_type": "text"
      },
      "source": [
        "R-1.6 Write a short Python function that takes a positive integer n and returns  the sum of the squares of all the odd positive integers smaller than n."
      ]
    },
    {
      "cell_type": "code",
      "metadata": {
        "id": "hqVRxiDgHXdD",
        "colab_type": "code",
        "colab": {}
      },
      "source": [
        "def odd_sum_squares(n: int) -> int:\n",
        "  \"\"\"returns the sum of square of positive odd integers smaller than n,\n",
        "  exclusive\"\"\"\n",
        "  n -= 1\n",
        "  sqsum = 0\n",
        "  while n > 0:\n",
        "    if n % 2 == 1:\n",
        "      sqsum += n * n\n",
        "    n -= 1\n",
        "  return  sqsum"
      ],
      "execution_count": 0,
      "outputs": []
    },
    {
      "cell_type": "code",
      "metadata": {
        "id": "qixufQkxH1LR",
        "colab_type": "code",
        "colab": {
          "base_uri": "https://localhost:8080/",
          "height": 34
        },
        "outputId": "c6a90436-ff5f-48a1-eba0-ef1f2df06fd4"
      },
      "source": [
        "odd_sum_squares(12)"
      ],
      "execution_count": 254,
      "outputs": [
        {
          "output_type": "execute_result",
          "data": {
            "text/plain": [
              "286"
            ]
          },
          "metadata": {
            "tags": []
          },
          "execution_count": 254
        }
      ]
    },
    {
      "cell_type": "markdown",
      "metadata": {
        "id": "LSayLjuJIxz5",
        "colab_type": "text"
      },
      "source": [
        "R-1.7 Give a single command that computes the sum from Exercise R-1.6, relying on Python’s comprehension syntax and the built-in sum function."
      ]
    },
    {
      "cell_type": "code",
      "metadata": {
        "id": "uNtiArbJIzZU",
        "colab_type": "code",
        "colab": {}
      },
      "source": [
        "def odd_sum_squares(n: int) -> int:\n",
        "  \"\"\"returns the sum of square of positive odd integers smaller than n,\n",
        "  exclusive\"\"\"\n",
        "  return sum([x ** 2 for x in range(1, n, 2) if x > 0])"
      ],
      "execution_count": 0,
      "outputs": []
    },
    {
      "cell_type": "code",
      "metadata": {
        "id": "b2n-sO3cI5ee",
        "colab_type": "code",
        "colab": {
          "base_uri": "https://localhost:8080/",
          "height": 34
        },
        "outputId": "93da6eda-ef98-4a36-a06e-119cdfeee67f"
      },
      "source": [
        "odd_sum_squares(12)"
      ],
      "execution_count": 256,
      "outputs": [
        {
          "output_type": "execute_result",
          "data": {
            "text/plain": [
              "286"
            ]
          },
          "metadata": {
            "tags": []
          },
          "execution_count": 256
        }
      ]
    },
    {
      "cell_type": "markdown",
      "metadata": {
        "id": "iqXSPGJBJV5W",
        "colab_type": "text"
      },
      "source": [
        "R-1.8 Python allows negative integers to be used as indices into a sequence,\n",
        "such as a string. If string s has length n, and expression s[k] is used for index −n ≤ k < 0, what is the equivalent index j ≥ 0 such that s[j] references the same element?"
      ]
    },
    {
      "cell_type": "code",
      "metadata": {
        "id": "wfiUw96EJW07",
        "colab_type": "code",
        "colab": {}
      },
      "source": [
        ""
      ],
      "execution_count": 0,
      "outputs": []
    }
  ]
}