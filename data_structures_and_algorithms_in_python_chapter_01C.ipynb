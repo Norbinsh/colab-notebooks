{
  "nbformat": 4,
  "nbformat_minor": 0,
  "metadata": {
    "colab": {
      "name": "data_structures_and_algorithms_in_python_chapter_01C.ipynb",
      "version": "0.3.2",
      "provenance": [],
      "collapsed_sections": [],
      "include_colab_link": true
    },
    "kernelspec": {
      "name": "python3",
      "display_name": "Python 3"
    }
  },
  "cells": [
    {
      "cell_type": "markdown",
      "metadata": {
        "id": "view-in-github",
        "colab_type": "text"
      },
      "source": [
        "<a href=\"https://colab.research.google.com/github/Norbinsh/colab-notebooks/blob/master/data_structures_and_algorithms_in_python_chapter_01C.ipynb\" target=\"_parent\"><img src=\"https://colab.research.google.com/assets/colab-badge.svg\" alt=\"Open In Colab\"/></a>"
      ]
    },
    {
      "cell_type": "markdown",
      "metadata": {
        "id": "BP38BCCPzNq8",
        "colab_type": "text"
      },
      "source": [
        "### *Creativity* (Python 3.6.7)"
      ]
    },
    {
      "cell_type": "markdown",
      "metadata": {
        "id": "Et-i806bk08f",
        "colab_type": "text"
      },
      "source": [
        "C-1.13 Write a pseudo-code description of a function that reverses a list of n\n",
        "integers, so that the numbers are listed in the opposite order than they\n",
        "were before, and compare this method to an equivalent Python function\n",
        "for doing the same thing."
      ]
    },
    {
      "cell_type": "code",
      "metadata": {
        "id": "n1sWVZXizQCc",
        "colab_type": "code",
        "outputId": "8453cd15-1662-489a-d88d-fdd40f41fca1",
        "colab": {
          "base_uri": "https://localhost:8080/",
          "height": 34
        }
      },
      "source": [
        "a = [1,2,3,4,5] # array\n",
        "s = 0 # start\n",
        "e = 4 # end\n",
        "\n",
        "while s < e:\n",
        "  a[s], a[e] = a[e], a[s]\n",
        "  s +=1\n",
        "  e -=1\n",
        "  \n",
        "print(a)"
      ],
      "execution_count": 0,
      "outputs": [
        {
          "output_type": "stream",
          "text": [
            "[5, 4, 3, 2, 1]\n"
          ],
          "name": "stdout"
        }
      ]
    },
    {
      "cell_type": "code",
      "metadata": {
        "id": "iopwZ4gUm_Hg",
        "colab_type": "code",
        "outputId": "8bf0bf6c-6aa4-4e20-e7d2-901326d71bdc",
        "colab": {
          "base_uri": "https://localhost:8080/",
          "height": 34
        }
      },
      "source": [
        "a = [1,2,3,4,5] # array\n",
        "reversed_a = a[::-1]\n",
        "print(reversed_a)"
      ],
      "execution_count": 0,
      "outputs": [
        {
          "output_type": "stream",
          "text": [
            "[5, 4, 3, 2, 1]\n"
          ],
          "name": "stdout"
        }
      ]
    },
    {
      "cell_type": "code",
      "metadata": {
        "id": "umS-Elr-nW4I",
        "colab_type": "code",
        "outputId": "8f236535-9590-43bc-c7a1-58d53e092a40",
        "colab": {
          "base_uri": "https://localhost:8080/",
          "height": 34
        }
      },
      "source": [
        "a = [1,2,3,4,5] # array\n",
        "a.reverse() # returns None but shuffles in-place\n",
        "print(a)"
      ],
      "execution_count": 0,
      "outputs": [
        {
          "output_type": "stream",
          "text": [
            "[5, 4, 3, 2, 1]\n"
          ],
          "name": "stdout"
        }
      ]
    },
    {
      "cell_type": "markdown",
      "metadata": {
        "id": "IiI_UEfuoEnq",
        "colab_type": "text"
      },
      "source": [
        "C-1.14 Write a short Python function that takes a sequence of integer values and\n",
        "determines if there is a distinct pair of numbers in the sequence whose\n",
        "product is odd."
      ]
    },
    {
      "cell_type": "code",
      "metadata": {
        "id": "_IFvp7_EndDQ",
        "colab_type": "code",
        "outputId": "f5a19b8b-7169-40b4-a240-e2f308faf5ed",
        "colab": {
          "base_uri": "https://localhost:8080/",
          "height": 85
        }
      },
      "source": [
        "def odd_distinct(ns_array):\n",
        "  for i in range(0, len(ns_array) -1):\n",
        "    if (ns_array[i] + ns_array[i+1]) % 2 != 0:\n",
        "      print(f\"Odd Product Matched With: {ns_array[i]} {ns_array[i+1]}\")\n",
        "    \n",
        "\n",
        "odd_distinct([1,2,3,4,5])"
      ],
      "execution_count": 0,
      "outputs": [
        {
          "output_type": "stream",
          "text": [
            "Odd Product Matched With: 1 2\n",
            "Odd Product Matched With: 2 3\n",
            "Odd Product Matched With: 3 4\n",
            "Odd Product Matched With: 4 5\n"
          ],
          "name": "stdout"
        }
      ]
    },
    {
      "cell_type": "markdown",
      "metadata": {
        "id": "_ujhfuoP0PPx",
        "colab_type": "text"
      },
      "source": [
        "C-1.15 Write a Python function that takes a sequence of numbers and determines if all the numbers are different from each other (that is, they are distinct)."
      ]
    },
    {
      "cell_type": "code",
      "metadata": {
        "id": "I581MgJ2prAx",
        "colab_type": "code",
        "colab": {}
      },
      "source": [
        "def is_distinct(arr):\n",
        "  if len(arr) == len(set(arr)):\n",
        "    return True\n",
        "  return False"
      ],
      "execution_count": 0,
      "outputs": []
    },
    {
      "cell_type": "code",
      "metadata": {
        "id": "hizo5wAK0g0T",
        "colab_type": "code",
        "outputId": "a79a7be1-2d31-4060-ad77-994b26a90d88",
        "colab": {
          "base_uri": "https://localhost:8080/",
          "height": 34
        }
      },
      "source": [
        "print(is_distinct([1,2,3,4]))"
      ],
      "execution_count": 0,
      "outputs": [
        {
          "output_type": "stream",
          "text": [
            "True\n"
          ],
          "name": "stdout"
        }
      ]
    },
    {
      "cell_type": "code",
      "metadata": {
        "id": "JwuGouyi0kFc",
        "colab_type": "code",
        "outputId": "99288df5-06bf-41c2-9dea-7df44987f226",
        "colab": {
          "base_uri": "https://localhost:8080/",
          "height": 34
        }
      },
      "source": [
        "print(is_distinct([1,2,3,4,4]))"
      ],
      "execution_count": 0,
      "outputs": [
        {
          "output_type": "stream",
          "text": [
            "False\n"
          ],
          "name": "stdout"
        }
      ]
    },
    {
      "cell_type": "markdown",
      "metadata": {
        "id": "bSQIDSxu04Ig",
        "colab_type": "text"
      },
      "source": [
        "C-1.16 In our implementation of the scale function (page 25), the body of the loop\n",
        "executes the command data[j] = factor. We have discussed that numeric\n",
        "types are immutable, and that use of the = operator in this context causes\n",
        "the creation of a new instance (not the mutation of an existing instance).\n",
        "How is it still possible, then, that our implementation of scale changes the\n",
        "actual parameter sent by the caller?\n",
        "\n",
        "\n",
        "\n",
        "```\n",
        "def scale(data, factor):\n",
        "  for j in range(len(data)):\n",
        "    data[j] = factor\n",
        "```\n",
        "\n"
      ]
    },
    {
      "cell_type": "markdown",
      "metadata": {
        "id": "6GzIX5_k3hsU",
        "colab_type": "text"
      },
      "source": [
        "Because we are modifying an array which is a sequence which is mutable"
      ]
    },
    {
      "cell_type": "markdown",
      "metadata": {
        "id": "MgtjmsT-3ucY",
        "colab_type": "text"
      },
      "source": [
        "C-1.17 Had we implemented the scale function (page 25) as follows, does it work\n",
        "properly?\n",
        "\n",
        "\n",
        "```\n",
        "def scale(data, factor):\n",
        "  for val in data:\n",
        "    val = factor\n",
        "```\n",
        "\n"
      ]
    },
    {
      "cell_type": "markdown",
      "metadata": {
        "id": "hzZn9eYp4ff3",
        "colab_type": "text"
      },
      "source": [
        "No, because ints are immutable\n",
        "\n",
        "\n"
      ]
    },
    {
      "cell_type": "markdown",
      "metadata": {
        "id": "-uYZggbW5yaP",
        "colab_type": "text"
      },
      "source": [
        "C-1.18 Demonstrate how to use Python’s list comprehension syntax to produce\n",
        "the list [0, 2, 6, 12, 20, 30, 42, 56, 72, 90]."
      ]
    },
    {
      "cell_type": "code",
      "metadata": {
        "id": "HpxobPYs3iSN",
        "colab_type": "code",
        "outputId": "03651844-3259-4e85-ca6e-c91e4d6ab722",
        "colab": {
          "base_uri": "https://localhost:8080/",
          "height": 34
        }
      },
      "source": [
        "print([x * (x+1) for x in range(0, 10)])"
      ],
      "execution_count": 0,
      "outputs": [
        {
          "output_type": "stream",
          "text": [
            "[0, 2, 6, 12, 20, 30, 42, 56, 72, 90]\n"
          ],
          "name": "stdout"
        }
      ]
    },
    {
      "cell_type": "markdown",
      "metadata": {
        "id": "Y8-lV4f0A143",
        "colab_type": "text"
      },
      "source": [
        "C-1.19 Demonstrate how to use Python’s list comprehension syntax to produce\n",
        "the list [ a , b , c , ..., z ], but without having to type all 26 such\n",
        "characters literally."
      ]
    },
    {
      "cell_type": "code",
      "metadata": {
        "id": "HUpYWBnK8HdW",
        "colab_type": "code",
        "outputId": "35a25bf0-a2d1-4939-8659-91e04477b2ce",
        "colab": {
          "base_uri": "https://localhost:8080/",
          "height": 34
        }
      },
      "source": [
        "print([chr(ltr) for ltr in range(ord('a'), ord('z')+1)])"
      ],
      "execution_count": 0,
      "outputs": [
        {
          "output_type": "stream",
          "text": [
            "['a', 'b', 'c', 'd', 'e', 'f', 'g', 'h', 'i', 'j', 'k', 'l', 'm', 'n', 'o', 'p', 'q', 'r', 's', 't', 'u', 'v', 'w', 'x', 'y', 'z']\n"
          ],
          "name": "stdout"
        }
      ]
    },
    {
      "cell_type": "markdown",
      "metadata": {
        "id": "aiGaKkhiCaOe",
        "colab_type": "text"
      },
      "source": [
        "C-1.20 Python’s random module includes a function shuffle(data) that accepts a list of elements and randomly reorders the elements so that each possible order occurs with equal probability. The random module includes a more basic function randint(a, b) that returns a uniformly random integer from a to b (including both endpoints). Using only the randint function, implement your own version of the shuffle function."
      ]
    },
    {
      "cell_type": "code",
      "metadata": {
        "id": "nttectg6Ca21",
        "colab_type": "code",
        "colab": {}
      },
      "source": [
        "from random import randint"
      ],
      "execution_count": 0,
      "outputs": []
    },
    {
      "cell_type": "code",
      "metadata": {
        "id": "Z_AmtgpR_7OD",
        "colab_type": "code",
        "colab": {}
      },
      "source": [
        "def shuffle(data):\n",
        "  return [data.pop(randint(0, len(data)-1)) for _ in range(len(data))]"
      ],
      "execution_count": 0,
      "outputs": []
    },
    {
      "cell_type": "code",
      "metadata": {
        "id": "2H0kfp0LAaZj",
        "colab_type": "code",
        "outputId": "e0ffb909-24de-4419-dce8-d5376998f19d",
        "colab": {
          "base_uri": "https://localhost:8080/",
          "height": 34
        }
      },
      "source": [
        "shuffle([1,2,3])"
      ],
      "execution_count": 0,
      "outputs": [
        {
          "output_type": "execute_result",
          "data": {
            "text/plain": [
              "[1, 3, 2]"
            ]
          },
          "metadata": {
            "tags": []
          },
          "execution_count": 68
        }
      ]
    },
    {
      "cell_type": "markdown",
      "metadata": {
        "id": "3f3pKJD4I_u3",
        "colab_type": "text"
      },
      "source": [
        "C-1.21 Write a Python program that repeatedly reads lines from standard input\n",
        "until an EOFError is raised, and then outputs those lines in reverse order\n",
        "(a user can indicate end of input by typing ctrl-D)."
      ]
    },
    {
      "cell_type": "code",
      "metadata": {
        "id": "FkbJGBTIJA5d",
        "colab_type": "code",
        "colab": {}
      },
      "source": [
        "try:\n",
        "  ls = []\n",
        "  while True:\n",
        "    ls.append(input())\n",
        "except KeyboardInterrupt:\n",
        "  for s in ls[::-1]:\n",
        "    print(s)"
      ],
      "execution_count": 0,
      "outputs": []
    },
    {
      "cell_type": "markdown",
      "metadata": {
        "id": "BEZVw95f3ZEF",
        "colab_type": "text"
      },
      "source": [
        "C-1.22 Write a short Python program that takes two arrays a and b of length n\n",
        "storing int values, and returns the dot product of a and b. That is, it returns\n",
        "an array c of length n such that c[i] = a[i] · b[i], for i = 0, . . . , n − 1."
      ]
    },
    {
      "cell_type": "code",
      "metadata": {
        "id": "NetPOeCIQLvd",
        "colab_type": "code",
        "colab": {}
      },
      "source": [
        "def dotproduct(arraya, arrayb):\n",
        "  if len(arraya) != len(arrayb):\n",
        "    return False\n",
        "  arrayc = []\n",
        "  for i in range(len(arraya)):\n",
        "    arrayc.append(arraya[i] * arrayb[i])\n",
        "  return arrayc"
      ],
      "execution_count": 0,
      "outputs": []
    },
    {
      "cell_type": "code",
      "metadata": {
        "id": "4wkD7-ik_Gj-",
        "colab_type": "code",
        "outputId": "8ea6a202-549f-4e22-e11e-03662063d388",
        "colab": {
          "base_uri": "https://localhost:8080/",
          "height": 34
        }
      },
      "source": [
        "print(dotproduct([1,2,3,4], [1,2,3,4]))"
      ],
      "execution_count": 0,
      "outputs": [
        {
          "output_type": "stream",
          "text": [
            "[1, 4, 9, 16]\n"
          ],
          "name": "stdout"
        }
      ]
    },
    {
      "cell_type": "code",
      "metadata": {
        "id": "nJ-M2qa-_Ky0",
        "colab_type": "code",
        "colab": {}
      },
      "source": [
        "def dotproduct(a, b):\n",
        "  print(len(a))\n",
        "  if len(a) != len(b):\n",
        "    return False\n",
        "  else:\n",
        "    c = []\n",
        "    for i,j in zip(a,b):\n",
        "      c.append(i * j)\n",
        "    return c\n",
        "  "
      ],
      "execution_count": 0,
      "outputs": []
    },
    {
      "cell_type": "code",
      "metadata": {
        "id": "sWSrPEB-AMdU",
        "colab_type": "code",
        "outputId": "0814af47-7794-412a-d50b-b6dcb7e047d6",
        "colab": {
          "base_uri": "https://localhost:8080/",
          "height": 51
        }
      },
      "source": [
        "print(dotproduct([1,2,3,4], [1,2,3,4]))"
      ],
      "execution_count": 0,
      "outputs": [
        {
          "output_type": "stream",
          "text": [
            "4\n",
            "[1, 4, 9, 16]\n"
          ],
          "name": "stdout"
        }
      ]
    },
    {
      "cell_type": "markdown",
      "metadata": {
        "id": "y2oo_p5hAiMt",
        "colab_type": "text"
      },
      "source": [
        "C-1.23 Give an example of a Python code fragment that attempts to write an ele-\n",
        "ment to a list based on an index that may be out of bounds. If that index\n",
        "is out of bounds, the program should catch the exception that results, and\n",
        "print the following error message:\n",
        "“Don’t try buffer overflow attacks in Python!”"
      ]
    },
    {
      "cell_type": "code",
      "metadata": {
        "id": "fOJyhxIdAda7",
        "colab_type": "code",
        "colab": {}
      },
      "source": [
        "def careful():\n",
        "  ls = [1,2,3]\n",
        "  try:\n",
        "    ls[3] = \"failure\"\n",
        "  except IndexError:\n",
        "    print(\"Don’t try buffer overflow attacks in Python!\")"
      ],
      "execution_count": 0,
      "outputs": []
    },
    {
      "cell_type": "code",
      "metadata": {
        "id": "Q9YXCgoIA6Tc",
        "colab_type": "code",
        "outputId": "77c56d39-12b2-451d-fc7c-4ed08865ff0f",
        "colab": {
          "base_uri": "https://localhost:8080/",
          "height": 34
        }
      },
      "source": [
        "careful()"
      ],
      "execution_count": 0,
      "outputs": [
        {
          "output_type": "stream",
          "text": [
            "Don’t try buffer overflow attacks in Python!\n"
          ],
          "name": "stdout"
        }
      ]
    },
    {
      "cell_type": "markdown",
      "metadata": {
        "id": "kTsMjIm0A-Ht",
        "colab_type": "text"
      },
      "source": [
        "C-1.24 Write a short Python function that counts the number of vowels in a given\n",
        "character string."
      ]
    },
    {
      "cell_type": "code",
      "metadata": {
        "id": "hUp2u7g-A-ws",
        "colab_type": "code",
        "colab": {}
      },
      "source": [
        "vowels = [\"A\", \"E\", \"I\", \"O\", \"U\"]"
      ],
      "execution_count": 0,
      "outputs": []
    },
    {
      "cell_type": "code",
      "metadata": {
        "id": "8wMzERiUBLrl",
        "colab_type": "code",
        "colab": {}
      },
      "source": [
        "def countvowels(s):\n",
        "  cnt = 0\n",
        "  for ltr in s:\n",
        "    if ltr.upper() in vowels:\n",
        "      cnt +=1\n",
        "  return cnt"
      ],
      "execution_count": 0,
      "outputs": []
    },
    {
      "cell_type": "code",
      "metadata": {
        "id": "ujO2SFzSBdQs",
        "colab_type": "code",
        "outputId": "24e777a8-ee1e-4541-df7c-eb837437c4e2",
        "colab": {
          "base_uri": "https://localhost:8080/",
          "height": 34
        }
      },
      "source": [
        "countvowels(\"hello\")"
      ],
      "execution_count": 0,
      "outputs": [
        {
          "output_type": "execute_result",
          "data": {
            "text/plain": [
              "2"
            ]
          },
          "metadata": {
            "tags": []
          },
          "execution_count": 78
        }
      ]
    },
    {
      "cell_type": "markdown",
      "metadata": {
        "id": "qobt6DzNBr-F",
        "colab_type": "text"
      },
      "source": [
        "C-1.25 Write a short Python function that takes a string s, representing a sentence,\n",
        "and returns a copy of the string with all punctuation removed. For exam-\n",
        "ple, if given the string \"Let s try, Mike.\", this function would return\n",
        "\"Lets try Mike\"."
      ]
    },
    {
      "cell_type": "code",
      "metadata": {
        "id": "l2CZJUScBfso",
        "colab_type": "code",
        "colab": {}
      },
      "source": [
        "def remove_punc(s):\n",
        "  return s.replace(\"'\",\"\")"
      ],
      "execution_count": 0,
      "outputs": []
    },
    {
      "cell_type": "code",
      "metadata": {
        "id": "uodNhWWdCBxY",
        "colab_type": "code",
        "outputId": "54a9a05d-8256-4e1c-cd1f-91a617035146",
        "colab": {
          "base_uri": "https://localhost:8080/",
          "height": 34
        }
      },
      "source": [
        "remove_punc(\"let's try Mike\")"
      ],
      "execution_count": 0,
      "outputs": [
        {
          "output_type": "execute_result",
          "data": {
            "text/plain": [
              "'lets try Mike'"
            ]
          },
          "metadata": {
            "tags": []
          },
          "execution_count": 80
        }
      ]
    },
    {
      "cell_type": "markdown",
      "metadata": {
        "id": "059fTDAmCR3K",
        "colab_type": "text"
      },
      "source": [
        "Write a short program that takes as input three integers, a, b, and c, from\n",
        "the console and determines if they can be used in a correct arithmetic\n",
        "formula (in the given order), like “a + b = c,” “a = b − c,” or “a ∗ b = c.”"
      ]
    },
    {
      "cell_type": "code",
      "metadata": {
        "id": "hoWdK43TCEsR",
        "colab_type": "code",
        "colab": {}
      },
      "source": [
        "def can_they(a,b,c):\n",
        "  if ((a+b == c) or (a == b-c) or (a*b == c)or (a %b == c) or (a/b == c)):\n",
        "    return True\n",
        "  else:\n",
        "    return False"
      ],
      "execution_count": 0,
      "outputs": []
    },
    {
      "cell_type": "code",
      "metadata": {
        "id": "3KxhrYPqCmHo",
        "colab_type": "code",
        "outputId": "75950e64-ce3f-4160-97ea-d9e6aa6f6e30",
        "colab": {
          "base_uri": "https://localhost:8080/",
          "height": 34
        }
      },
      "source": [
        "can_they(1,2,3)"
      ],
      "execution_count": 0,
      "outputs": [
        {
          "output_type": "execute_result",
          "data": {
            "text/plain": [
              "True"
            ]
          },
          "metadata": {
            "tags": []
          },
          "execution_count": 112
        }
      ]
    },
    {
      "cell_type": "markdown",
      "metadata": {
        "id": "9BtByag9IspI",
        "colab_type": "text"
      },
      "source": [
        "C-1.27 In Section 1.8, we provided three different implementations of a generator\n",
        "that computes factors of a given integer. The third of those implementa-\n",
        "tions, from page 41, was the most efficient, but we noted that it did not\n",
        "yield the factors in increasing order. Modify the generator so that it reports\n",
        "factors in increasing order, while maintaining its general performance ad-\n",
        "vantages."
      ]
    },
    {
      "cell_type": "code",
      "metadata": {
        "id": "6_cYcyS4Is86",
        "colab_type": "code",
        "colab": {}
      },
      "source": [
        "def factors(n):\n",
        "  store = []\n",
        "  k=1\n",
        "  while k * k < n:\n",
        "    if n % k == 0:\n",
        "      yield k\n",
        "      store.append(n // k)\n",
        "    k += 1\n",
        "  if k * k == n:\n",
        "    yield k\n",
        "  for x in store[::-1]:\n",
        "    yield x"
      ],
      "execution_count": 0,
      "outputs": []
    },
    {
      "cell_type": "code",
      "metadata": {
        "id": "PK23zjmJJABR",
        "colab_type": "code",
        "outputId": "fd4f5604-c149-4a57-d867-c941c378dadb",
        "colab": {
          "base_uri": "https://localhost:8080/",
          "height": 34
        }
      },
      "source": [
        "factors(5)"
      ],
      "execution_count": 0,
      "outputs": [
        {
          "output_type": "execute_result",
          "data": {
            "text/plain": [
              "<generator object factors at 0x7ffa0a1d8360>"
            ]
          },
          "metadata": {
            "tags": []
          },
          "execution_count": 134
        }
      ]
    },
    {
      "cell_type": "code",
      "metadata": {
        "id": "vpMixuDjJFtC",
        "colab_type": "code",
        "outputId": "81a236c7-c861-4c42-b429-286367177be8",
        "colab": {
          "base_uri": "https://localhost:8080/",
          "height": 119
        }
      },
      "source": [
        "for i in factors(20):\n",
        "  print(i)"
      ],
      "execution_count": 0,
      "outputs": [
        {
          "output_type": "stream",
          "text": [
            "1\n",
            "2\n",
            "4\n",
            "5\n",
            "10\n",
            "20\n"
          ],
          "name": "stdout"
        }
      ]
    },
    {
      "cell_type": "markdown",
      "metadata": {
        "id": "NjPc_bzbL4NJ",
        "colab_type": "text"
      },
      "source": [
        "C-1.28 The p-norm of a vector v = (v 1 , v 2 , . . . , v n ) in n-dimensional space is de-\n",
        "fined as\n",
        "\u0002\n",
        "p\n",
        "\u0007v\u0007 = v 1 p + v 2 p + · · · + v n p .\n",
        "For the special case of p = 2, this results in the traditional Euclidean\n",
        "norm, which represents the length of the vector. For example, the Eu-\n",
        "clidean norm of a two-dimensional\n",
        "with coordinates (4, 3) has a\n",
        "√\n",
        "√ vector √\n",
        "2\n",
        "2\n",
        "Euclidean norm of 4 + 3 = 16 + 9 = 25 = 5. Give an implemen-\n",
        "tation of a function named norm such that norm(v, p) returns the p-norm\n",
        "value of v and norm(v) retu"
      ]
    },
    {
      "cell_type": "code",
      "metadata": {
        "id": "C7KzidiTNjqS",
        "colab_type": "code",
        "colab": {}
      },
      "source": [
        "def norm(v, p=None):\n",
        "  if not p:\n",
        "    return sum(i ** 2 for i in v)\n",
        "  return sum(i ** p for i in v)"
      ],
      "execution_count": 0,
      "outputs": []
    },
    {
      "cell_type": "code",
      "metadata": {
        "id": "JKWqRYRpOj-u",
        "colab_type": "code",
        "outputId": "a6edc5b4-3044-418d-ed36-728513320656",
        "colab": {
          "base_uri": "https://localhost:8080/",
          "height": 34
        }
      },
      "source": [
        "norm([4,3])"
      ],
      "execution_count": 0,
      "outputs": [
        {
          "output_type": "execute_result",
          "data": {
            "text/plain": [
              "25"
            ]
          },
          "metadata": {
            "tags": []
          },
          "execution_count": 138
        }
      ]
    },
    {
      "cell_type": "code",
      "metadata": {
        "id": "OUGmUNlqOqOp",
        "colab_type": "code",
        "outputId": "03b6176f-1934-4f3f-a11f-919be883dc71",
        "colab": {
          "base_uri": "https://localhost:8080/",
          "height": 34
        }
      },
      "source": [
        "norm([4,3], p=3)"
      ],
      "execution_count": 0,
      "outputs": [
        {
          "output_type": "execute_result",
          "data": {
            "text/plain": [
              "91"
            ]
          },
          "metadata": {
            "tags": []
          },
          "execution_count": 139
        }
      ]
    }
  ]
}