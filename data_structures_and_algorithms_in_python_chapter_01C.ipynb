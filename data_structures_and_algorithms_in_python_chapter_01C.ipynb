{
  "nbformat": 4,
  "nbformat_minor": 0,
  "metadata": {
    "colab": {
      "name": "data_structures_and_algorithms_in_python_chapter_01C.ipynb",
      "version": "0.3.2",
      "provenance": [],
      "collapsed_sections": [],
      "include_colab_link": true
    },
    "kernelspec": {
      "name": "python3",
      "display_name": "Python 3"
    }
  },
  "cells": [
    {
      "cell_type": "markdown",
      "metadata": {
        "id": "view-in-github",
        "colab_type": "text"
      },
      "source": [
        "<a href=\"https://colab.research.google.com/github/Norbinsh/colab-notebooks/blob/master/data_structures_and_algorithms_in_python_chapter_01C.ipynb\" target=\"_parent\"><img src=\"https://colab.research.google.com/assets/colab-badge.svg\" alt=\"Open In Colab\"/></a>"
      ]
    },
    {
      "cell_type": "markdown",
      "metadata": {
        "id": "BP38BCCPzNq8",
        "colab_type": "text"
      },
      "source": [
        "### *Creativity* (Python 3.6.7)"
      ]
    },
    {
      "cell_type": "markdown",
      "metadata": {
        "id": "Et-i806bk08f",
        "colab_type": "text"
      },
      "source": [
        "C-1.13 Write a pseudo-code description of a function that reverses a list of n\n",
        "integers, so that the numbers are listed in the opposite order than they\n",
        "were before, and compare this method to an equivalent Python function\n",
        "for doing the same thing."
      ]
    },
    {
      "cell_type": "code",
      "metadata": {
        "id": "n1sWVZXizQCc",
        "colab_type": "code",
        "colab": {
          "base_uri": "https://localhost:8080/",
          "height": 34
        },
        "outputId": "3d319641-59d5-4dc2-b2e3-7b84270d0a63"
      },
      "source": [
        "a = [1,2,3,4,5] # array\n",
        "s = 0 # start\n",
        "e = 4 # end\n",
        "\n",
        "while s < e:\n",
        "  a[s], a[e] = a[e], a[s]\n",
        "  s +=1\n",
        "  e -=1\n",
        "  \n",
        "print(a)"
      ],
      "execution_count": 12,
      "outputs": [
        {
          "output_type": "stream",
          "text": [
            "[5, 4, 3, 2, 1]\n"
          ],
          "name": "stdout"
        }
      ]
    },
    {
      "cell_type": "code",
      "metadata": {
        "id": "iopwZ4gUm_Hg",
        "colab_type": "code",
        "colab": {
          "base_uri": "https://localhost:8080/",
          "height": 34
        },
        "outputId": "bef784e9-3dce-4f9a-f85a-a978898062fd"
      },
      "source": [
        "a = [1,2,3,4,5] # array\n",
        "reversed_a = a[::-1]\n",
        "print(reversed_a)"
      ],
      "execution_count": 13,
      "outputs": [
        {
          "output_type": "stream",
          "text": [
            "[5, 4, 3, 2, 1]\n"
          ],
          "name": "stdout"
        }
      ]
    },
    {
      "cell_type": "code",
      "metadata": {
        "id": "umS-Elr-nW4I",
        "colab_type": "code",
        "colab": {
          "base_uri": "https://localhost:8080/",
          "height": 34
        },
        "outputId": "7e512339-ac92-4627-f0bc-a105475d8205"
      },
      "source": [
        "a = [1,2,3,4,5] # array\n",
        "a.reverse() # returns None but shuffles in-place\n",
        "print(a)"
      ],
      "execution_count": 14,
      "outputs": [
        {
          "output_type": "stream",
          "text": [
            "[5, 4, 3, 2, 1]\n"
          ],
          "name": "stdout"
        }
      ]
    },
    {
      "cell_type": "markdown",
      "metadata": {
        "id": "IiI_UEfuoEnq",
        "colab_type": "text"
      },
      "source": [
        "C-1.14 Write a short Python function that takes a sequence of integer values and\n",
        "determines if there is a distinct pair of numbers in the sequence whose\n",
        "product is odd."
      ]
    },
    {
      "cell_type": "code",
      "metadata": {
        "id": "_IFvp7_EndDQ",
        "colab_type": "code",
        "colab": {
          "base_uri": "https://localhost:8080/",
          "height": 85
        },
        "outputId": "08d28721-a43d-42dd-cbc6-24d4bda0a3df"
      },
      "source": [
        "def odd_distinct(ns_array):\n",
        "  for i in range(0, len(ns_array) -1):\n",
        "    if (ns_array[i] + ns_array[i+1]) % 2 != 0:\n",
        "      print(f\"Odd Product Matched With: {ns_array[i]} {ns_array[i+1]}\")\n",
        "    \n",
        "\n",
        "odd_distinct([1,2,3,4,5])"
      ],
      "execution_count": 26,
      "outputs": [
        {
          "output_type": "stream",
          "text": [
            "Odd Product Matched With: 1 2\n",
            "Odd Product Matched With: 2 3\n",
            "Odd Product Matched With: 3 4\n",
            "Odd Product Matched With: 4 5\n"
          ],
          "name": "stdout"
        }
      ]
    },
    {
      "cell_type": "code",
      "metadata": {
        "id": "I581MgJ2prAx",
        "colab_type": "code",
        "colab": {}
      },
      "source": [
        ""
      ],
      "execution_count": 0,
      "outputs": []
    }
  ]
}