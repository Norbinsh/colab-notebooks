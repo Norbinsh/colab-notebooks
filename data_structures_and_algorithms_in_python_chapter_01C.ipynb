{
  "nbformat": 4,
  "nbformat_minor": 0,
  "metadata": {
    "colab": {
      "name": "data_structures_and_algorithms_in_python_chapter_01C.ipynb",
      "version": "0.3.2",
      "provenance": [],
      "collapsed_sections": [],
      "include_colab_link": true
    },
    "kernelspec": {
      "name": "python3",
      "display_name": "Python 3"
    }
  },
  "cells": [
    {
      "cell_type": "markdown",
      "metadata": {
        "id": "view-in-github",
        "colab_type": "text"
      },
      "source": [
        "<a href=\"https://colab.research.google.com/github/Norbinsh/colab-notebooks/blob/master/data_structures_and_algorithms_in_python_chapter_01C.ipynb\" target=\"_parent\"><img src=\"https://colab.research.google.com/assets/colab-badge.svg\" alt=\"Open In Colab\"/></a>"
      ]
    },
    {
      "cell_type": "markdown",
      "metadata": {
        "id": "BP38BCCPzNq8",
        "colab_type": "text"
      },
      "source": [
        "### *Creativity* (Python 3.6.7)"
      ]
    },
    {
      "cell_type": "markdown",
      "metadata": {
        "id": "Et-i806bk08f",
        "colab_type": "text"
      },
      "source": [
        "C-1.13 Write a pseudo-code description of a function that reverses a list of n\n",
        "integers, so that the numbers are listed in the opposite order than they\n",
        "were before, and compare this method to an equivalent Python function\n",
        "for doing the same thing."
      ]
    },
    {
      "cell_type": "code",
      "metadata": {
        "id": "n1sWVZXizQCc",
        "colab_type": "code",
        "colab": {
          "base_uri": "https://localhost:8080/",
          "height": 34
        },
        "outputId": "08e7eddd-b290-49aa-e6fc-c6017ca855e1"
      },
      "source": [
        "a = [1,2,3,4,5] # array\n",
        "s = 0 # start\n",
        "e = 4 # end\n",
        "\n",
        "while s < e:\n",
        "  a[s], a[e] = a[e], a[s]\n",
        "  s +=1\n",
        "  e -=1\n",
        "  \n",
        "print(a)"
      ],
      "execution_count": 9,
      "outputs": [
        {
          "output_type": "stream",
          "text": [
            "[5, 4, 3, 2, 1]\n"
          ],
          "name": "stdout"
        }
      ]
    },
    {
      "cell_type": "code",
      "metadata": {
        "id": "iopwZ4gUm_Hg",
        "colab_type": "code",
        "colab": {
          "base_uri": "https://localhost:8080/",
          "height": 34
        },
        "outputId": "a32b6986-0aa3-4436-cd08-5649b4faa92b"
      },
      "source": [
        "a = [1,2,3,4,5] # array\n",
        "reversed_a = a[::-1]\n",
        "print(reversed_a)"
      ],
      "execution_count": 10,
      "outputs": [
        {
          "output_type": "stream",
          "text": [
            "[5, 4, 3, 2, 1]\n"
          ],
          "name": "stdout"
        }
      ]
    },
    {
      "cell_type": "code",
      "metadata": {
        "id": "umS-Elr-nW4I",
        "colab_type": "code",
        "colab": {
          "base_uri": "https://localhost:8080/",
          "height": 34
        },
        "outputId": "394ff052-65ee-4082-8f78-d9a3ff64a819"
      },
      "source": [
        "a = [1,2,3,4,5] # array\n",
        "a.reverse() # returns None but shuffles in-place\n",
        "print(a)"
      ],
      "execution_count": 11,
      "outputs": [
        {
          "output_type": "stream",
          "text": [
            "[5, 4, 3, 2, 1]\n"
          ],
          "name": "stdout"
        }
      ]
    },
    {
      "cell_type": "markdown",
      "metadata": {
        "id": "IiI_UEfuoEnq",
        "colab_type": "text"
      },
      "source": [
        "C-1.14 Write a short Python function that takes a sequence of integer values and\n",
        "determines if there is a distinct pair of numbers in the sequence whose\n",
        "product is odd."
      ]
    },
    {
      "cell_type": "code",
      "metadata": {
        "id": "_IFvp7_EndDQ",
        "colab_type": "code",
        "colab": {
          "base_uri": "https://localhost:8080/",
          "height": 85
        },
        "outputId": "38986c99-70cb-4b83-8c7e-68866aa97841"
      },
      "source": [
        "def odd_distinct(ns_array):\n",
        "  for i in range(0, len(ns_array) -1):\n",
        "    if (ns_array[i] + ns_array[i+1]) % 2 != 0:\n",
        "      print(f\"Odd Product Matched With: {ns_array[i]} {ns_array[i+1]}\")\n",
        "    \n",
        "\n",
        "odd_distinct([1,2,3,4,5])"
      ],
      "execution_count": 12,
      "outputs": [
        {
          "output_type": "stream",
          "text": [
            "Odd Product Matched With: 1 2\n",
            "Odd Product Matched With: 2 3\n",
            "Odd Product Matched With: 3 4\n",
            "Odd Product Matched With: 4 5\n"
          ],
          "name": "stdout"
        }
      ]
    },
    {
      "cell_type": "markdown",
      "metadata": {
        "id": "_ujhfuoP0PPx",
        "colab_type": "text"
      },
      "source": [
        "C-1.15 Write a Python function that takes a sequence of numbers and determines if all the numbers are different from each other (that is, they are distinct)."
      ]
    },
    {
      "cell_type": "code",
      "metadata": {
        "id": "I581MgJ2prAx",
        "colab_type": "code",
        "colab": {}
      },
      "source": [
        "def is_distinct(arr):\n",
        "  if len(arr) == len(set(arr)):\n",
        "    return True\n",
        "  return False"
      ],
      "execution_count": 0,
      "outputs": []
    },
    {
      "cell_type": "code",
      "metadata": {
        "id": "hizo5wAK0g0T",
        "colab_type": "code",
        "colab": {
          "base_uri": "https://localhost:8080/",
          "height": 34
        },
        "outputId": "07943144-d31a-4206-98e9-090c0889e310"
      },
      "source": [
        "print(is_distinct([1,2,3,4]))"
      ],
      "execution_count": 14,
      "outputs": [
        {
          "output_type": "stream",
          "text": [
            "True\n"
          ],
          "name": "stdout"
        }
      ]
    },
    {
      "cell_type": "code",
      "metadata": {
        "id": "JwuGouyi0kFc",
        "colab_type": "code",
        "colab": {
          "base_uri": "https://localhost:8080/",
          "height": 34
        },
        "outputId": "06c9bf69-b0b9-49dc-f494-3550e9f457a7"
      },
      "source": [
        "print(is_distinct([1,2,3,4,4]))"
      ],
      "execution_count": 15,
      "outputs": [
        {
          "output_type": "stream",
          "text": [
            "False\n"
          ],
          "name": "stdout"
        }
      ]
    },
    {
      "cell_type": "markdown",
      "metadata": {
        "id": "bSQIDSxu04Ig",
        "colab_type": "text"
      },
      "source": [
        "C-1.16 In our implementation of the scale function (page 25), the body of the loop\n",
        "executes the command data[j] = factor. We have discussed that numeric\n",
        "types are immutable, and that use of the = operator in this context causes\n",
        "the creation of a new instance (not the mutation of an existing instance).\n",
        "How is it still possible, then, that our implementation of scale changes the\n",
        "actual parameter sent by the caller?\n",
        "\n",
        "\n",
        "\n",
        "```\n",
        "def scale(data, factor):\n",
        "  for j in range(len(data)):\n",
        "    data[j] = factor\n",
        "```\n",
        "\n"
      ]
    },
    {
      "cell_type": "markdown",
      "metadata": {
        "id": "6GzIX5_k3hsU",
        "colab_type": "text"
      },
      "source": [
        "Because we are modifying an array which is a sequence which is mutable"
      ]
    },
    {
      "cell_type": "markdown",
      "metadata": {
        "id": "MgtjmsT-3ucY",
        "colab_type": "text"
      },
      "source": [
        "C-1.17 Had we implemented the scale function (page 25) as follows, does it work\n",
        "properly?\n",
        "\n",
        "\n",
        "```\n",
        "def scale(data, factor):\n",
        "  for val in data:\n",
        "    val = factor\n",
        "```\n",
        "\n"
      ]
    },
    {
      "cell_type": "markdown",
      "metadata": {
        "id": "hzZn9eYp4ff3",
        "colab_type": "text"
      },
      "source": [
        "No, because ints are immutable\n",
        "\n",
        "\n"
      ]
    },
    {
      "cell_type": "markdown",
      "metadata": {
        "id": "-uYZggbW5yaP",
        "colab_type": "text"
      },
      "source": [
        "C-1.18 Demonstrate how to use Python’s list comprehension syntax to produce\n",
        "the list [0, 2, 6, 12, 20, 30, 42, 56, 72, 90]."
      ]
    },
    {
      "cell_type": "code",
      "metadata": {
        "id": "HpxobPYs3iSN",
        "colab_type": "code",
        "colab": {
          "base_uri": "https://localhost:8080/",
          "height": 34
        },
        "outputId": "0c34f1f2-2351-48cd-d1c8-9bc8302fcacc"
      },
      "source": [
        "print([x * (x+1) for x in range(0, 10)])"
      ],
      "execution_count": 26,
      "outputs": [
        {
          "output_type": "stream",
          "text": [
            "[0, 2, 6, 12, 20, 30, 42, 56, 72, 90]\n"
          ],
          "name": "stdout"
        }
      ]
    },
    {
      "cell_type": "markdown",
      "metadata": {
        "id": "Y8-lV4f0A143",
        "colab_type": "text"
      },
      "source": [
        "C-1.19 Demonstrate how to use Python’s list comprehension syntax to produce\n",
        "the list [ a , b , c , ..., z ], but without having to type all 26 such\n",
        "characters literally."
      ]
    },
    {
      "cell_type": "code",
      "metadata": {
        "id": "HUpYWBnK8HdW",
        "colab_type": "code",
        "colab": {
          "base_uri": "https://localhost:8080/",
          "height": 34
        },
        "outputId": "c3c2e805-2b65-47db-b4ca-e667361b4fe7"
      },
      "source": [
        "print([chr(ltr) for ltr in range(ord('a'), ord('z')+1)])"
      ],
      "execution_count": 29,
      "outputs": [
        {
          "output_type": "stream",
          "text": [
            "['a', 'b', 'c', 'd', 'e', 'f', 'g', 'h', 'i', 'j', 'k', 'l', 'm', 'n', 'o', 'p', 'q', 'r', 's', 't', 'u', 'v', 'w', 'x', 'y', 'z']\n"
          ],
          "name": "stdout"
        }
      ]
    },
    {
      "cell_type": "markdown",
      "metadata": {
        "id": "aiGaKkhiCaOe",
        "colab_type": "text"
      },
      "source": [
        "C-1.20 Python’s random module includes a function shuffle(data) that accepts a list of elements and randomly reorders the elements so that each possible order occurs with equal probability. The random module includes a more basic function randint(a, b) that returns a uniformly random integer from a to b (including both endpoints). Using only the randint function, implement your own version of the shuffle function."
      ]
    },
    {
      "cell_type": "code",
      "metadata": {
        "id": "nttectg6Ca21",
        "colab_type": "code",
        "colab": {}
      },
      "source": [
        ""
      ],
      "execution_count": 0,
      "outputs": []
    }
  ]
}